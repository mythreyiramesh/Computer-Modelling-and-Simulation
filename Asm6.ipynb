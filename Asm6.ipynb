{
 "cells": [
  {
   "cell_type": "markdown",
   "metadata": {},
   "source": [
    "# MA5790 - Assignment 6 - MM15B022 - R Mythreyi"
   ]
  },
  {
   "cell_type": "code",
   "execution_count": 1,
   "metadata": {},
   "outputs": [
    {
     "name": "stdout",
     "output_type": "stream",
     "text": [
      "The tikzmagic module is not an IPython extension.\n"
     ]
    }
   ],
   "source": [
    "%load_ext tikzmagic"
   ]
  },
  {
   "cell_type": "code",
   "execution_count": 2,
   "metadata": {},
   "outputs": [],
   "source": [
    "%matplotlib inline"
   ]
  },
  {
   "cell_type": "code",
   "execution_count": 3,
   "metadata": {},
   "outputs": [
    {
     "data": {
      "application/javascript": [
       "MathJax.Hub.Config({\n",
       "    TeX: { equationNumbers: { autoNumber: \"AMS\" } }\n",
       "});\n",
       "\n",
       "MathJax.Hub.Queue(\n",
       "  [\"resetEquationNumbers\", MathJax.InputJax.TeX],\n",
       "  [\"PreProcess\", MathJax.Hub],\n",
       "  [\"Reprocess\", MathJax.Hub]\n",
       ");\n"
      ],
      "text/plain": [
       "<IPython.core.display.Javascript object>"
      ]
     },
     "metadata": {},
     "output_type": "display_data"
    }
   ],
   "source": [
    "%%javascript\n",
    "MathJax.Hub.Config({\n",
    "    TeX: { equationNumbers: { autoNumber: \"AMS\" } }\n",
    "});\n",
    "\n",
    "MathJax.Hub.Queue(\n",
    "  [\"resetEquationNumbers\", MathJax.InputJax.TeX],\n",
    "  [\"PreProcess\", MathJax.Hub],\n",
    "  [\"Reprocess\", MathJax.Hub]\n",
    ");"
   ]
  },
  {
   "cell_type": "markdown",
   "metadata": {},
   "source": [
    "## Question 1"
   ]
  },
  {
   "cell_type": "markdown",
   "metadata": {},
   "source": [
    "Derivation of entries of $N \\times N$ differentiation matrix."
   ]
  },
  {
   "cell_type": "markdown",
   "metadata": {},
   "source": [
    "### Solution"
   ]
  },
  {
   "cell_type": "markdown",
   "metadata": {},
   "source": [
    "Given:\n",
    "$$\n",
    "p_{j}(x)=\\frac{1}{a_{j}} \\prod_{k=0 \\atop k \\neq j}^{N}\\left(x-x_{k}\\right) \\text{, where } a_{j}=\\prod_{k=0 \\atop k \\neq j}^{N}\\left(x_{j}-x_{k}\\right)\n",
    "$$\n",
    "\n",
    "Taking log on both sides, we get:\n",
    "$$\n",
    "\\log p_{j}(x) = \\sum_{k=0 \\atop k \\neq j}^{N} \\log\\left(x-x_{k}\\right)- \\log a_j \\\\\n",
    "$$\n",
    "\n",
    "Differentiating w.r.t $x$ on both sides, we get:\n",
    "$$\n",
    "\\frac{p'_{j}(x)}{ p_{j}(x)} = \\sum_{k=0 \\atop k \\neq j}^{N} \\left(x-x_{k}\\right)^{-1}+ 0 \\\\\n",
    "$$\n",
    "\n",
    "Therefore,\n",
    "$$\n",
    "p'_{j}(x)  = p_{j}(x) \\sum_{k=0 \\atop k \\neq j}^{N} \\left(x-x_{k}\\right)^{-1}\n",
    "$$"
   ]
  },
  {
   "cell_type": "markdown",
   "metadata": {},
   "source": [
    "We know that:\n",
    "$$\n",
    "D_{ij} = p'_{j}(x_i)\n",
    "$$\n",
    "\n",
    "Therefore, for the diagonal entries:\n",
    "$$\n",
    "D_{jj} = p'_{j}(x_j) = p_{j}(x_j) \\sum_{k=0 \\atop k \\neq j}^{N} \\left(x_j-x_{k}\\right)^{-1} \n",
    "$$\n",
    "\n",
    "Since $p_{j}(x_j)=1$, we get:\n",
    "$$\n",
    "D_{jj} = \\sum_{k=0 \\atop k \\neq j}^{N} \\left(x_j-x_{k}\\right)^{-1}\n",
    "$$\n",
    "\n",
    "For the off-diagonal entries, consider:\n",
    "$$\n",
    "D_{ij} = p'_{j}(x_i) = p_{j}(x_i) \\sum_{k=0 \\atop k \\neq j}^{N} \\left(x_i-x_{k}\\right)^{-1} \n",
    "$$\n",
    "\n",
    "But, \n",
    "$$\n",
    "p_{j}(x_i) = \\frac{1}{a_j} \\prod_{k=0 \\atop k \\neq j}^{N}\\left(x_i-x_{k}\\right) \n",
    "$$\n",
    "\n",
    "Therefore,\n",
    "$$\n",
    "D_{ij} = \\frac{1}{a_j} \\prod_{k=0 \\atop k \\neq j}^{N}\\left(x_i-x_{k}\\right) \\sum_{k=0 \\atop k \\neq j}^{N} \\left(x_i-x_{k}\\right)^{-1} \\\\\n",
    "=  \\frac{1}{a_j (x_i - x_j)}  \\sum_{k=0 \\atop k \\neq j}^{N} \\frac{1}{\\left(x_i-x_{k}\\right)} \\prod_{k=0}^{N}\\left(x_i-x_{k}\\right)\n",
    "$$\n",
    "\n",
    "The product term inside the sum has $(x_i - x_i)$ term making it zero. However, when the denominator is also $(x_i - x_i)$, it cancels out, leaving all the remaining products in the numerator. Hence, from definition of $a_i$\n",
    "$$\n",
    "D_{ij} =  \\frac{1}{a_j (x_i - x_j)}  \\prod_{k=0 \\atop k \\neq i }^{N}\\left(x_i-x_{k}\\right) = \\frac{a_i}{a_j (x_i - x_j)}\n",
    "$$\n",
    "\n",
    "Hence Proved."
   ]
  },
  {
   "cell_type": "markdown",
   "metadata": {},
   "source": [
    "## Question 2"
   ]
  },
  {
   "cell_type": "markdown",
   "metadata": {},
   "source": [
    "Deriving entries of Chebyshev Differentiation Matrix."
   ]
  },
  {
   "cell_type": "markdown",
   "metadata": {},
   "source": [
    "### Solution"
   ]
  },
  {
   "cell_type": "markdown",
   "metadata": {},
   "source": [
    "We are interpolating on the Chebyshev nodes, given by:\n",
    "\n",
    "$$ x_j = \\cos \\left(\\frac{j \\pi}{N} \\right) \\quad j=\\{0,1,\\cdots,N\\}$$\n",
    "\n",
    "To obtain the entries of the Differentiation Matrix, we can use the relations derived above (Question 1). We get the following results from simplifications using trigonometric identities:\n",
    "$$\n",
    "D_{00} = \\sum_{k=0 \\atop k \\neq 0}^{N} \\left(x_0-x_{k}\\right)^{-1} = \\sum_{j=1}^{N} \\frac{1}{1-\\cos\\left(\\frac{j \\pi}{N} \\right)} = \\frac{N}{2} \\sum_{j=1}^{N}\\left(1+\\cot ^{2}\\left(\\frac{j \\pi}{2 N}\\right)\\right) \\\\\n",
    "D_{NN} = \\sum_{k=0 \\atop k \\neq N}^{N} \\left(x_N-x_{k}\\right)^{-1} = \\sum_{j=1}^{N} \\frac{1}{-1-\\cos \\left(\\frac{j \\pi}{n}\\right)} = -\\frac{N}{2} \\sum_{j=1}^{N}\\left(1+\\tan ^{2}\\left(\\frac{j \\pi}{2 N}\\right)\\right)\n",
    "$$"
   ]
  },
  {
   "cell_type": "markdown",
   "metadata": {},
   "source": [
    "We need to evaluate two summations to proceed. They are:\n",
    "$$\n",
    "\\sum_{j=1}^{N} \\cot ^{2}\\left(\\frac{j \\pi}{2 N}\\right) \\\\\n",
    "\\sum_{j=1}^{N} \\tan ^{2}\\left(\\frac{j \\pi}{2 N}\\right)\n",
    "$$\n",
    "\n",
    "We can adopt a similar procedure to obtain both the sums. \n",
    "\n",
    "For cot, we start with the following binomial expansion:\n",
    "$$\n",
    "\\sum_{k=0}^{2 N} \\left( \\begin{array}{l}{2 N} \\\\ {k}\\end{array}\\right) \\cos \\left(\\frac{j \\pi}{2 N}\\right)^{k}\\left(i \\sin \\left(\\frac{j \\pi}{2 N}\\right)\\right)^{2 N-k}=(-1)^{j}\n",
    "$$\n",
    "\n",
    "And, for tan, we start with this binomial expansion written as:\n",
    "$$\n",
    "\\sum_{k=0}^{2 N} \\left( \\begin{array}{c}{2 N} \\\\ {k}\\end{array}\\right) \\cos \\left(\\frac{j \\pi}{2 N}\\right)^{2 N-k}\\left(i \\sin \\left(\\frac{j \\pi}{2 N}\\right)\\right)^{k}=(-1)^{j}\n",
    "$$\n",
    "\n",
    "Equating the imaginary parts to zero in both the expansions, we get the following:\n",
    "$$\n",
    "\\sum_{k=1,3 . .}^{2 N-1}(-1)^{\\frac{k+1}{2}} \\left( \\begin{array}{c}{2 N} \\\\ {k}\\end{array}\\right) \\cot \\left(\\frac{j \\pi}{2 N}\\right)^{k}=0 \\\\\n",
    "\\sum_{k=1,3 \\ldots}^{2 N-1}(-1)^{\\frac{k-1}{2}} \\left( \\begin{array}{c}{2 N} \\\\ {k}\\end{array}\\right) \\tan \\left(\\frac{j \\pi}{2 N}\\right)^{k}=0\n",
    "$$\n",
    "\n",
    "We need to get the sum of square of roots. We start with:\n",
    "$$\n",
    "\\sum_{j=1}^{2 N-1} x_{j}^{2}=\\left(\\sum\\left(x_{j}\\right)\\right)^{2}-2 \\sum x_{j} x_{k} \n",
    "$$\n",
    "\n",
    "Substituing the appropriate coefficients, we obtain the following relations:\n",
    "$$\n",
    "\\sum_{j=1}^{2 N-1} \\cot ^{2}\\left(\\frac{j \\pi}{2 N}\\right)=\\frac{(2 N-1)(N-1)}{3} \\\\\n",
    "\\sum_{j=1}^{2 N-1} \\tan ^{2}\\left(\\frac{j \\pi}{2 N}\\right)=-\\frac{(2 N-1)(N-1)}{3}\n",
    "$$\n",
    "\n",
    "Using the fact that both $\\cot^2$ and $\\tan^2$ are symmetric about $\\pi$, we get the following results:\n",
    "$$\n",
    "\\sum_{j=1}^{N} \\cot ^{2}\\left(\\frac{j \\pi}{2 N}\\right)=\\frac{2(2 N-1)(N-1)}{6} \\\\\n",
    "\\sum_{j=1}^{N} \\tan ^{2}\\left(\\frac{j \\pi}{2 N}\\right)=-\\frac{2(2 N-1)(N-1)}{6}\n",
    "$$"
   ]
  },
  {
   "cell_type": "markdown",
   "metadata": {},
   "source": [
    "Substituting these results in the expressions for $D_N$, we get:\n",
    "$$\n",
    "D_{00} = \\frac{2 N^{2}+1}{6} \\\\\n",
    "D_{NN} = -\\frac{2 N^{2}+1}{6} \n",
    "$$"
   ]
  },
  {
   "cell_type": "markdown",
   "metadata": {},
   "source": [
    "For the off-diagonal entries:\n",
    "$$\n",
    "D_{ij} =  \\frac{a_i}{a_j (x_i - x_j)} = \\frac{\\prod_{k=0 \\atop k \\neq i }^{N}\\left(x_i-x_{k}\\right)}{\\prod_{k=0 \\atop k \\neq j }^{N}\\left(x_j-x_{k}\\right)} (x_i - x_j)^{-1} \n",
    "$$\n",
    "\n",
    "Expanding using $\\cos C - \\cos D = -2\\cdot \\sin\\left(\\frac{C+D}{2}\\right) \\sin\\left(\\frac{C-D}{2}\\right)$, we get:\n",
    "\n",
    "$$\n",
    "\\frac{\\prod_{k=0, k \\neq i}^{N} \\sin \\left(\\frac{\\pi}{2 N}(i+k)\\right) \\sin \\left(\\frac{\\pi}{2 N}(i-k)\\right)}{\\prod_{k=0, k \\neq j}^{N} \\sin \\left(\\frac{\\pi}{2 N}(j+k)\\right) \\sin \\left(\\frac{\\pi}{2 N}(j-k)\\right)}\n",
    "$$\n",
    "\n",
    "We may simplify this using the result:\n",
    "$$\n",
    "\\prod_{k=1}^{N-1} \\sin \\left(\\frac{\\pi k}{n}\\right)=\\frac{N}{2^{N-1}}\n",
    "$$\n",
    "\n",
    "Final result for these elements depends on the number of negative signs in the numerator and denominator.\n",
    "$$\n",
    "D_{ij} = \\frac{a_{i}}{a_{j}} \\frac{(-1)^{i+j}}{\\left(x_{i}-x_{j}\\right)}\n",
    "$$\n",
    "\n",
    "Hence Proved."
   ]
  },
  {
   "cell_type": "markdown",
   "metadata": {},
   "source": [
    "## Question 3"
   ]
  },
  {
   "cell_type": "markdown",
   "metadata": {},
   "source": [
    "Diagonal entries in minimal energy configuration."
   ]
  },
  {
   "cell_type": "markdown",
   "metadata": {},
   "source": [
    "### Solution"
   ]
  },
  {
   "cell_type": "markdown",
   "metadata": {},
   "source": [
    "The diagonal entries of the differentiation matrix = $p'_j(x_j)$. From the derivation in question 1, the entries are given as:\n",
    "$$\n",
    "D_{jj} = \\sum_{k=0 \\atop k \\neq j}^{N} \\left(x_j-x_{k}\\right)^{-1}\n",
    "$$\n",
    "\n",
    "To find the minimal energy configuration where the energy is gives as:\n",
    "$$\n",
    "E = (x_0,x_1,\\cdots,x_N) = \\sum_{0 \\leq i \\leq j \\leq N} \\log(x_i - x_j)\n",
    "$$\n",
    "\n",
    "Differentiating the energy and equating it to zero, we get:\n",
    "$$\n",
    "\\sum_{k=0 \\atop k \\neq j}^{N} \\left(x_j-x_{k}\\right)^{-1} = 0\n",
    "$$\n",
    "\n",
    "Therefore,\n",
    "$$\n",
    "D_{jj} = 0\n",
    "$$"
   ]
  },
  {
   "cell_type": "markdown",
   "metadata": {},
   "source": [
    "## Question 4"
   ]
  },
  {
   "cell_type": "markdown",
   "metadata": {},
   "source": [
    "Symmetry in Chebyshev Differentiation Matrices."
   ]
  },
  {
   "cell_type": "markdown",
   "metadata": {},
   "source": [
    "### Solution"
   ]
  },
  {
   "cell_type": "markdown",
   "metadata": {},
   "source": [
    "- We know that $(D_N)_{ij} = p'_j(x_i)$. Since the Chebyshev nodes are given by:\n",
    "$$\n",
    "x_i = cos(\\frac{i \\pi}{n})\n",
    "$$\n",
    "It is symmetric about the $y$ axis. Hence, $p_{j}(x)=p_{N-j}(-x)$ and $-x_i = x_{N-i}$\n",
    "Therefore, using the chain rule of differentiation, we get the negative sign.\n",
    "$$\n",
    "\\left(D_{N}\\right)_{i, j}=p_{j}^{\\prime}\\left(x_{i}\\right)=p_{N-j}^{\\prime}\\left(-x_{i}\\right)\\cdot(-1)=-p_{N-j}^{\\prime}\\left(x_{N-i}\\right)=-\\left(D_{N}\\right)_{N-i,N-j}\n",
    "$$"
   ]
  },
  {
   "cell_type": "markdown",
   "metadata": {},
   "source": [
    "- Differentiating twice will give two negative signs, thereby making it positive.\n",
    "This means, we should expect the matrix $(D_N)^2$ to be symmetric. This can be confirmed from $p''_j(x_i)$ too. The condition will come out to be:\n",
    "$$\n",
    "(D_N)_{ij}^2 = (D_N)_{N-i,N-j}^2\n",
    "$$"
   ]
  },
  {
   "cell_type": "markdown",
   "metadata": {},
   "source": [
    "- Since the matrix $(D_N)^2$ is symmetric, the values above the main diagonal will be reflected below the diagonal. \n",
    "Hence, it's sufficient to only store the entries above the diagonal. But to use only half the entries in $D_N$ for the computation, we need to use the explicit set of equations given by:\n",
    "$$\n",
    "p_{j}^{\\prime \\prime}(x)=2 p_{j}(x) \\sum_{0 \\leq k<l \\leq N \\atop l \\neq j}^{N} \\frac{1}{x-x_{k}} \\frac{1}{x-x_{l}}\n",
    "$$\n",
    "This is derived from the expressions for $p'_j(x)$ and $p''_k(x)$:\n",
    "$$\n",
    "p'_{j}(x)  = p_{j}(x) \\sum_{k=0 \\atop k \\neq j}^{N} \\left(x-x_{k}\\right)^{-1} \\\\\n",
    "p''_{j}(x)  = p'_{j}(x) \\sum_{k=0 \\atop k \\neq j}^{N} \\left(x-x_{k}\\right)^{-1} - p_{j}(x) \\sum_{k=0 \\atop k \\neq j}^{N} \\left(x-x_{k}\\right)^{-2}\n",
    "$$"
   ]
  },
  {
   "cell_type": "markdown",
   "metadata": {},
   "source": [
    "- Squaring of $D_N$ is a matrix-matrix multiplication. Matrix-matrix multiplication has the complexity $\\mathcal{O}(N^3)$. The relations derived above have a complexity of $\\mathcal{O}(N^2)$."
   ]
  },
  {
   "cell_type": "markdown",
   "metadata": {},
   "source": [
    "## Question 5"
   ]
  },
  {
   "cell_type": "markdown",
   "metadata": {},
   "source": [
    "Explicit method to calculate chebyshev differentiation matrix entries and its stability."
   ]
  },
  {
   "cell_type": "markdown",
   "metadata": {},
   "source": [
    "### Solution"
   ]
  },
  {
   "cell_type": "code",
   "execution_count": 20,
   "metadata": {},
   "outputs": [
    {
     "name": "stdout",
     "output_type": "stream",
     "text": [
      "[[0.00000000e+00 0.00000000e+00 0.00000000e+00 0.00000000e+00\n",
      "  0.00000000e+00]\n",
      " [0.00000000e+00 1.11022302e-16 2.82842712e+00 1.41421356e+00\n",
      "  0.00000000e+00]\n",
      " [0.00000000e+00 2.82842712e+00 1.41421356e+00 2.82842712e+00\n",
      "  0.00000000e+00]\n",
      " [0.00000000e+00 1.41421356e+00 2.82842712e+00 7.07106781e-01\n",
      "  0.00000000e+00]\n",
      " [0.00000000e+00 0.00000000e+00 0.00000000e+00 0.00000000e+00\n",
      "  0.00000000e+00]]\n",
      "[[ 5.5        -6.82842712  2.         -1.17157288  0.5       ]\n",
      " [ 1.70710678 -0.70710678  1.41421356 -0.70710678 -0.29289322]\n",
      " [-0.5        -1.41421356 -1.41421356  1.41421356  0.5       ]\n",
      " [ 0.29289322  0.70710678 -1.41421356  0.         -1.70710678]\n",
      " [-0.5         1.17157288 -2.          6.82842712 -5.5       ]]\n",
      "[[ 5.50000000e+00 -6.82842712e+00  2.00000000e+00 -1.17157288e+00\n",
      "   5.00000000e-01]\n",
      " [ 1.70710678e+00 -7.07106781e-01 -1.41421356e+00  7.07106781e-01\n",
      "  -2.92893219e-01]\n",
      " [-5.00000000e-01  1.41421356e+00 -3.06161700e-17 -1.41421356e+00\n",
      "   5.00000000e-01]\n",
      " [ 2.92893219e-01 -7.07106781e-01  1.41421356e+00  7.07106781e-01\n",
      "  -1.70710678e+00]\n",
      " [-5.00000000e-01  1.17157288e+00 -2.00000000e+00  6.82842712e+00\n",
      "  -5.50000000e+00]]\n",
      "Condition Numbers\n",
      "89.3214541298346\n",
      "5.460353385324253e+16\n"
     ]
    }
   ],
   "source": [
    "import numpy as np\n",
    "from numpy.linalg import cond\n",
    "\n",
    "def cheb1(N):\n",
    "    D = np.zeros((N+1,N+1))\n",
    "\n",
    "    # corners\n",
    "    D[0,0] = (2*N**2 + 1)/6;\n",
    "    D[N,N] = -D[0,0];\n",
    "    D[0,N] = (0.5)*((-1)**N)\n",
    "    D[N,0] = -(0.5)*((-1)**N)\n",
    "\n",
    "    # edges\n",
    "    for i in range(1,N):\n",
    "        x = np.cos(np.pi*i/N);\n",
    "        D[0,i] = (2*(-1)**i)/(1-x)\n",
    "        D[N,i] = (-2*(-1)**(N+i))/(1+x)\n",
    "        D[i,0] = (-0.5*(-1)**i)/(1-x)\n",
    "        D[i,N] = (0.5 * (-1)**(N+i))/(1+x)\n",
    "\n",
    "    # remaining entries, off diagonal\n",
    "    for i in range (1,N):\n",
    "        x = np.cos(np.pi*i/N);\n",
    "        for j in range(1,N):\n",
    "            y = np.cos(np.pi*j/N);\n",
    "            if (i != j):\n",
    "                D[i,j] = D[i,j]-((-1)**(i+j))/(x-y)\n",
    "    \n",
    "    # remaining entries, diagonal\n",
    "    for i in range(1,N):\n",
    "        for j in range(1,N):\n",
    "            D[i,i] = D[i,i]-D[i,j]\n",
    "\n",
    "    return D\n",
    "\n",
    "\n",
    "def cheb2(N):\n",
    "    D = np.zeros((N+1,N+1))\n",
    "\n",
    "    # corners\n",
    "    D[0,0] = (2*N**2 + 1)/6;\n",
    "    D[N,N] = -D[0,0];\n",
    "    D[0,N] = (0.5)*((-1)**N)\n",
    "    D[N,0] = -(0.5)*((-1)**N)\n",
    "\n",
    "    # edges\n",
    "    for i in range(1,N):\n",
    "        x = np.cos(np.pi*i/N);\n",
    "        D[0,i] = (2*(-1)**i)/(1-x)\n",
    "        D[N,i] = (-2*(-1)**(N+i))/(1+x)\n",
    "        D[i,0] = (-0.5*(-1)**i)/(1-x)\n",
    "        D[i,N] = (0.5 * (-1)**(N+i))/(1+x)\n",
    "\n",
    "    # remaining entries\n",
    "    for i in range (1,N):\n",
    "        x = np.cos(np.pi*i/N);\n",
    "        for j in range(1,N):\n",
    "            y = np.cos(np.pi*j/N);\n",
    "            if (i == j):\n",
    "                D[i,i] = -x/(2*(1-x**2))\n",
    "            else:\n",
    "                D[i,j] = ((-1)**(i+j))/(x-y)\n",
    "\n",
    "    return D\n",
    "\n",
    "N_1 = 4\n",
    "D1 = cheb1(N_1)\n",
    "D2 = cheb2(N_1)\n",
    "print(abs(D1-D2))\n",
    "print(D1)\n",
    "print(D2)\n",
    "\n",
    "print(\"Condition Numbers\")\n",
    "print(cond(D1))\n",
    "print(cond(D2))\n"
   ]
  },
  {
   "cell_type": "markdown",
   "metadata": {},
   "source": [
    "The scheme implemented originally in the book is better for calculating the matrix because it seems to take care of the rounding errors that the explicit scheme is prone to. However, the differences in the matrices is negligible. The explicit scheme is less stable than the other scheme and even has a very large condition number."
   ]
  },
  {
   "cell_type": "markdown",
   "metadata": {},
   "source": [
    "## Question 6"
   ]
  },
  {
   "cell_type": "markdown",
   "metadata": {},
   "source": [
    "Explaining the exact spectral derivative for $\\exp(-x^{-2})$."
   ]
  },
  {
   "cell_type": "markdown",
   "metadata": {},
   "source": [
    "### Solution"
   ]
  },
  {
   "cell_type": "markdown",
   "metadata": {},
   "source": [
    "The spectral differentiation matrix for $N=2$ is given as:\n",
    "$$\n",
    "D_{2}=\\left[ \\begin{array}{ccc}{1.5} & {-2} & {0.5} \\\\ {0.5} & {0} & {-0.5} \\\\ {-0.5} & {2} & {-1.5}\\end{array}\\right]\n",
    "$$\n",
    "The given function is $f(x)=\\exp \\left(-x^{-2}\\right)$. The exact differentiation of $f(x)$ is given by $f'(x) =\\frac{2}{x^3} \\exp \\left(-x^{-2}\\right)$.\n",
    "\n",
    "The three points and the function evaluations are:\n",
    "\n",
    "$$\n",
    "\\left[ \\begin{array}{c}{x_0} \\\\ {x_1} \\\\ {x_2}\\end{array}\\right] = \\left[ \\begin{array}{c}{-1} \\\\ {0} \\\\ {1}\\end{array}\\right] \\quad \\left[ \\begin{array}{c}{f(x_0)} \\\\ {f(x_1)} \\\\ {f(x_2)}\\end{array}\\right] = \\left[ \\begin{array}{c}{\\exp(-1)} \\\\ {1} \\\\ {\\exp(-1)}\\end{array}\\right] \\quad \\left[ \\begin{array}{c}{f'(x_0)} \\\\ {f'(x_1)} \\\\ {f'(x_2)}\\end{array}\\right] = \\left[ \\begin{array}{c}{-2\\exp(-1)} \\\\ {1} \\\\ {2\\exp(-1)}\\end{array}\\right] \\\\\n",
    "$$\n",
    "\n",
    "Using the differentiation matrix on the vector of function evaluations, we get:\n",
    "\n",
    "$$\n",
    "\\left[ \\begin{array}{ccc}{1.5} & {-2} & {0.5} \\\\ {0.5} & {0} & {-0.5} \\\\ {-0.5} & {2} & {-1.5}\\end{array}\\right]\\left[ \\begin{array}{c}{f(x_0)} \\\\ {f(x_1)} \\\\ {f(x_2)}\\end{array}\\right] = \\left[ \\begin{array}{ccc}{1.5} & {-2} & {0.5} \\\\ {0.5} & {0} & {-0.5} \\\\ {-0.5} & {2} & {-1.5}\\end{array}\\right]\\left[ \\begin{array}{c}{\\exp(-1)} \\\\ {1} \\\\ {\\exp(-1)}\\end{array}\\right] = \\left[ \\begin{array}{c}{-2\\exp(-1)} \\\\ {1} \\\\ {2\\exp(-1)}\\end{array}\\right] \\\\\n",
    "$$\n",
    "\n",
    "Since the values match exactly, the error $E(2,2)$ is zero. "
   ]
  },
  {
   "cell_type": "markdown",
   "metadata": {},
   "source": [
    "## Question 7"
   ]
  },
  {
   "cell_type": "markdown",
   "metadata": {},
   "source": [
    "Geometric convergence of spectral differentiation."
   ]
  },
  {
   "cell_type": "markdown",
   "metadata": {},
   "source": [
    "### Solution"
   ]
  },
  {
   "cell_type": "markdown",
   "metadata": {},
   "source": [
    "Theorem 6 in the textbook makes the prediction that analytic functions have order of convergence $\\mathcal{O}(K^{-N})$, where $K=e^{\\phi_{f}+log2}$. Here, $\\phi_{f}$ is the Chebyshev potential. The graph shows such a convergence because $\\frac{1}{1+x^2}$ is an analytic function. The exact convergence can be checked by evaluating the Chebyshev potential for the function at its singularities."
   ]
  },
  {
   "cell_type": "markdown",
   "metadata": {},
   "source": [
    "## Question 8"
   ]
  },
  {
   "cell_type": "markdown",
   "metadata": {},
   "source": [
    "Computing norms of powers of Chebyshev differentiation matrices."
   ]
  },
  {
   "cell_type": "markdown",
   "metadata": {},
   "source": [
    "### Solution"
   ]
  },
  {
   "cell_type": "markdown",
   "metadata": {},
   "source": [
    "The reason $(D_N)^{(N+1)}$ goes to zero can be found using rank of the matrices. Since the differentiation of a constant function is zero, the nullity of $D_N$ = 1, making the rank $N$. Similarly, the double differentiation of both a constant function and a linear function is zero, making the nullity 2. Hence, the rank is $N-1$. This argument can be extended to say that the nullity of the matrix $(D_N)^{m}$ is $m$ because it sends all polynomials of degree $<m$ to zero. Hence, the rank of the matrix is $N+1-m$. If $m=N+1$, rank = 0. Hence, $(D_N)^{(N+1)} = 0$. "
   ]
  },
  {
   "cell_type": "markdown",
   "metadata": {},
   "source": [
    "While this is true for infinite precision, computing is done on finite precision. Hence, the way we compute the entries of $D_N$ will play a role on whether or not the entries converge. For the classic ways of getting $D_N$, we can compute the 2-norm and check if the value is going to zero. The 2-norm gives the largest singular value of a matrix and a matrix has as many non-zero singular values as the rank of the matrix."
   ]
  },
  {
   "cell_type": "code",
   "execution_count": 7,
   "metadata": {},
   "outputs": [
    {
     "name": "stdout",
     "output_type": "stream",
     "text": [
      "N= 5 : 2-norm= 7.424948197938867e-10\n",
      "N= 20 : 2-norm= 7.90224060935633e+21\n"
     ]
    }
   ],
   "source": [
    "import numpy as np\n",
    "from numpy.linalg import norm\n",
    "\n",
    "def cheb(N):\n",
    "    D = np.zeros((N+1,N+1))\n",
    "\n",
    "    # corners\n",
    "    D[0,0] = (2*N**2 + 1)/6;\n",
    "    D[N,N] = -D[0,0];\n",
    "    D[0,N] = (0.5)*((-1)**N)\n",
    "    D[N,0] = -(0.5)*((-1)**N)\n",
    "\n",
    "    # edges\n",
    "    for i in range(1,N):\n",
    "        x = np.cos(np.pi*i/N);\n",
    "        D[0,i] = (2*(-1)**i)/(1-x)\n",
    "        D[N,i] = (-2*(-1)**(N+i))/(1+x)\n",
    "        D[i,0] = (-0.5*(-1)**i)/(1-x)\n",
    "        D[i,N] = (0.5 * (-1)**(N+i))/(1+x)\n",
    "\n",
    "    # remaining entries\n",
    "    for i in range (1,N):\n",
    "        x = np.cos(np.pi*i/N);\n",
    "        for j in range(1,N):\n",
    "            y = np.cos(np.pi*j/N);\n",
    "            if (i == j):\n",
    "                D[i,i] = -x/(2*(1-x**2))\n",
    "            else:\n",
    "                D[i,j] = ((-1)**(i+j))/(x-y)\n",
    "\n",
    "    # calculating (N+1)th power\n",
    "    D_mult = D;\n",
    "    for i in range (1,N+2):\n",
    "        D_mult = D_mult.dot(D)\n",
    "\n",
    "    matrix_norm2 = norm(D_mult);\n",
    "    if (N == 5 or N == 20):\n",
    "        print(\"N=\",N,\": 2-norm=\",matrix_norm2);\n",
    "    return matrix_norm2;\n",
    "\n",
    "max = 30;\n",
    "all_norms = np.zeros(max-2);\n",
    "all_N = np.zeros(max-2);\n",
    "for j in range(2,max):\n",
    "    all_norms[j-2] = cheb(j);\n",
    "    all_N[j-2] = j;"
   ]
  },
  {
   "cell_type": "code",
   "execution_count": 8,
   "metadata": {},
   "outputs": [
    {
     "data": {
      "image/png": "[encoded data removed]",
      "text/plain": [
       "<Figure size 432x288 with 1 Axes>"
      ]
     },
     "metadata": {
      "needs_background": "light"
     },
     "output_type": "display_data"
    }
   ],
   "source": [
    "import matplotlib.pylab as plt\n",
    "plt.semilogy(all_N,all_norms,'r',label='2-norms')\n",
    "plt.title(\"Value of 2-norms for different N\")\n",
    "plt.xlabel(\"N\")\n",
    "plt.ylabel(\"2-norm\")\n",
    "plt.show();"
   ]
  },
  {
   "cell_type": "markdown",
   "metadata": {},
   "source": [
    "The value of 2-norm for $N=5$ is low, however, as $N$ increases, the 2-norm increases exponentially."
   ]
  }
 ],
 "metadata": {
  "celltoolbar": "Raw Cell Format",
  "kernelspec": {
   "display_name": "Python 3",
   "language": "python",
   "name": "python3"
  },
  "language_info": {
   "codemirror_mode": {
    "name": "ipython",
    "version": 3
   },
   "file_extension": ".py",
   "mimetype": "text/x-python",
   "name": "python",
   "nbconvert_exporter": "python",
   "pygments_lexer": "ipython3",
   "version": "3.6.6"
  }
 },
 "nbformat": 4,
 "nbformat_minor": 2
}
