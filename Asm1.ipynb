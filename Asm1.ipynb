{
 "cells": [
  {
   "cell_type": "markdown",
   "metadata": {},
   "source": [
    "# MA5790 - Assignment 1 - MM15B022 - R Mythreyi"
   ]
  },
  {
   "cell_type": "code",
   "execution_count": 1,
   "metadata": {
    "nbgrader": {
     "grade": false,
     "grade_id": "Exercise1",
     "locked": true,
     "schema_version": 1,
     "solution": false
    }
   },
   "outputs": [
    {
     "name": "stdout",
     "output_type": "stream",
     "text": [
      "The tikzmagic module is not an IPython extension.\n"
     ]
    }
   ],
   "source": [
    "%load_ext tikzmagic"
   ]
  },
  {
   "cell_type": "code",
   "execution_count": 2,
   "metadata": {},
   "outputs": [],
   "source": [
    "%matplotlib inline"
   ]
  },
  {
   "cell_type": "code",
   "execution_count": 3,
   "metadata": {},
   "outputs": [
    {
     "data": {
      "application/javascript": [
       "MathJax.Hub.Config({\n",
       "    TeX: { equationNumbers: { autoNumber: \"AMS\" } }\n",
       "});\n",
       "\n",
       "MathJax.Hub.Queue(\n",
       "  [\"resetEquationNumbers\", MathJax.InputJax.TeX],\n",
       "  [\"PreProcess\", MathJax.Hub],\n",
       "  [\"Reprocess\", MathJax.Hub]\n",
       ");\n"
      ],
      "text/plain": [
       "<IPython.core.display.Javascript object>"
      ]
     },
     "metadata": {},
     "output_type": "display_data"
    }
   ],
   "source": [
    "%%javascript\n",
    "MathJax.Hub.Config({\n",
    "    TeX: { equationNumbers: { autoNumber: \"AMS\" } }\n",
    "});\n",
    "\n",
    "MathJax.Hub.Queue(\n",
    "  [\"resetEquationNumbers\", MathJax.InputJax.TeX],\n",
    "  [\"PreProcess\", MathJax.Hub],\n",
    "  [\"Reprocess\", MathJax.Hub]\n",
    ");"
   ]
  },
  {
   "cell_type": "markdown",
   "metadata": {},
   "source": [
    "## Question 1 "
   ]
  },
  {
   "cell_type": "markdown",
   "metadata": {},
   "source": [
    "I. We derived the entries of the tridiagonal circulant matrix by local polynomial interpolation. Derive the entries of the pentadiagonal circulant matrix in the same manner."
   ]
  },
  {
   "cell_type": "markdown",
   "metadata": {},
   "source": [
    "### Solution"
   ]
  },
  {
   "cell_type": "markdown",
   "metadata": {},
   "source": [
    "To derive the entries of the pentadiagonal circulant matrix (which will be the same as $4^{\\text{th}}$ order finite difference scheme), we need to fit a $5^{\\text{th}}$ degree polynomial to five points: $\\{x_{j-2}, x_{j-1}, x_j , x_{j+1}, x_{j+2}\\}$, where the value of the function is respectively $\\{u_{j-2}, u_{j-1}, u_j , u_{j+1}, u_{j+2}\\}$. The polynomial interpolant (the same polynomial used in Langrangian Interpolation) $p_j(x)$ is given by:\n",
    "$$ p_j(x) = \\sum_{i=1}^5 u_{j+i-3} \\prod_{k=1, k\\neq i}^5 \\frac{(x - x_{j+k-3})}{(x_{j+i-3} - x_{j+k-3})} $$"
   ]
  },
  {
   "cell_type": "markdown",
   "metadata": {},
   "source": [
    "To obtain the value of derivative of $u$ at $j$, it's enough to evaluate $p_j'(x_j)$. The derivative of each term of the $p_j(x)$ is difficult to generalise, instead, we may simply evaluate the five derivatives individually. The term with $u_j$ completely evaluates to 0. The other terms remain."
   ]
  },
  {
   "cell_type": "markdown",
   "metadata": {},
   "source": [
    "We therefore get the following result for $p_j'(x_j)$:\n",
    "$$ p_j'(x_j) = \\frac{u_{j-2}}{12h} - \\frac{2 u_{j-1}}{3h} + \\frac{2 u_{j+1}}{3h} - \\frac{u_{j+2}}{12h} $$"
   ]
  },
  {
   "cell_type": "markdown",
   "metadata": {},
   "source": [
    "Formulating this as a pentadiagonal matrix $D$ such that if $w$ is a vector of all the derivatives computed at each grid point and $u$ is a vector of all the values of the function evaluated at each grid point, $w = Du$, we get (all empty regions in the matrix indicate $0$'s):\n",
    "\n",
    "\\begin{align}\n",
    "\\begin{bmatrix}\n",
    "w_1\\\\\n",
    "w_2\\\\\n",
    "w_3\\\\\n",
    "\\vdots\\\\\n",
    "w_{N-2}\\\\\n",
    "w_{N-1}\\\\\n",
    "w_N\n",
    "\\end{bmatrix}\n",
    "=\\dfrac1h\n",
    "\\begin{bmatrix}\n",
    "0 & \\frac{2}{3}& \\frac{-1}{12} &  &  &   &  & \\frac{1}{12} & \\frac{2}{3}\\\\\n",
    "\\frac{-2}{3} & 0 & \\frac{2}{3} & \\frac{-1}{12} & &  &  &  & \\frac{1}{12} \\\\\n",
    "\\frac{1}{12} & \\frac{-2}{3} & 0 & \\frac{2}{3} & \\frac{-1}{12} &  &  &  & \\\\\n",
    " & \\frac{1}{12} & \\frac{-2}{3} & 0 & \\frac{2}{3} & \\frac{-1}{12} &  &  & \\\\\n",
    " &  & \\ddots & \\ddots &\\ddots & \\ddots & \\ddots &  &\\\\\n",
    " &  &  &\\frac{1}{12} & \\frac{-2}{3} & 0 & \\frac{2}{3} & \\frac{-1}{12} &\\\\\n",
    " &  &  &  & \\frac{1}{12} & \\frac{-2}{3} & 0 & \\frac{2}{3} & \\frac{-1}{12}\\\\\n",
    "\\frac{-1}{12} &  &  &  & & \\frac{1}{12} & \\frac{-2}{3} & 0 & \\frac{2}{3}\\\\\n",
    "\\frac{2}{3} & \\frac{-1}{12} &  &  & &  & \\frac{1}{12} & \\frac{-2}{3} & 0\\\\\n",
    "\\end{bmatrix}\n",
    "\\begin{bmatrix}\n",
    "u_1\\\\\n",
    "u_2\\\\\n",
    "u_3\\\\\n",
    "\\vdots\\\\\n",
    "u_{N-2}\\\\\n",
    "u_{N-1}\\\\\n",
    "u_N\n",
    "\\end{bmatrix}\n",
    "\\label{eqn_central_difference_matrix}\n",
    "\\end{align}"
   ]
  },
  {
   "cell_type": "markdown",
   "metadata": {},
   "source": [
    "## Question 2"
   ]
  },
  {
   "cell_type": "markdown",
   "metadata": {
    "nbgrader": {
     "grade": false,
     "grade_id": "Exercise2",
     "locked": true,
     "schema_version": 1,
     "solution": false
    }
   },
   "source": [
    "II. $\\newcommand{\\bkt}[1]{\\left(#1\\right)}$\n",
    "Show that the dense matrix\n",
    "\\begin{align}\n",
    "D_N(i,j) & = \\begin{cases}\n",
    "\\bkt{-1}^{i-j} \\dfrac12 \\cot \\bkt{\\dfrac{(i-j)h}2} & \\text{if } i \\neq j\\\\\n",
    "0 & \\text{if }i=j\n",
    "\\end{cases}\n",
    "\\end{align}\n",
    "is circulant."
   ]
  },
  {
   "cell_type": "markdown",
   "metadata": {},
   "source": [
    "### Solution"
   ]
  },
  {
   "cell_type": "markdown",
   "metadata": {},
   "source": [
    "Since the elements of the matrix only depend on $(i-j)$, which is fixed for a diagonal, the given dense matrix $D$ is a Toeplitz Matrix. In order to prove that the matrix is circulant, we can use the periodicity of cotangent function:\n",
    "$$ \\cot(\\pi+\\theta)=-\\cot(\\pi-\\theta)=\\cot(\\theta) $$\n",
    "\n",
    "Taking the definition of $h$ to be the distance between two nodes/grid points in a range of length $2\\pi$ divided into $N$ sections, we have:\n",
    "$$ h = \\frac{2 \\pi}{N} $$"
   ]
  },
  {
   "cell_type": "markdown",
   "metadata": {},
   "source": [
    "Looking at the off-diagonal entries, for the matrix to be circulant, the element of the last row in a given column must be equal to the element of the first row in the next column. Therefore, the indices $(i,j)$ of the two entries can be taken as $(N,j)$ and $(1, j+1)$. Substituting $(i,j)$ appropriately, we get the terms to be:\n",
    "$$ D_N(N,1) = (-1)^{N-j} \\frac{1}{2} \\cot \\Big( \\frac{(N-j) 2\\pi}{2N} \\Big) \\text{ and } D_N(1,j+1) = (-1)^{1-j-1} \\frac{1}{2} \\cot \\Big( \\frac{(1-j-1) 2\\pi}{2N} \\Big)$$"
   ]
  },
  {
   "cell_type": "markdown",
   "metadata": {},
   "source": [
    "If N is even (from the derivation of the matrix), the terms simplify to:\n",
    "$$ D_N(N,j) = - \\frac{1}{2} \\cot \\Big(\\pi - \\frac{j\\pi}{N} \\Big) \\text{ and } D_N(1,j+1) = -\\frac{1}{2} \\cot \\Big( \\frac{-j\\pi}{N} \\Big)$$\n",
    "\n",
    "From the periodicity of cot function, $D_N(N,j) = D_N(1,j+1)$. Thus, the matrix is circulant. "
   ]
  },
  {
   "cell_type": "markdown",
   "metadata": {},
   "source": [
    "## Question 3"
   ]
  },
  {
   "cell_type": "markdown",
   "metadata": {
    "collapsed": true,
    "nbgrader": {
     "grade": true,
     "grade_id": "Solution2",
     "locked": false,
     "points": 0,
     "schema_version": 1,
     "solution": true
    }
   },
   "source": [
    "III. The error in the third output we discussed in the class, (i.e., the error for the spectral derivative on $e^{\\sin(x)}$) lie in pairs.\n",
    "<ul>\n",
    "<li>\n",
    "Why?\n",
    "<li>\n",
    "What property of $e^{\\sin(x)}$ gives rise to this behavior?\n",
    "</ul>"
   ]
  },
  {
   "cell_type": "markdown",
   "metadata": {},
   "source": [
    "### Solution"
   ]
  },
  {
   "cell_type": "markdown",
   "metadata": {},
   "source": [
    "This 'pairing up' property is not seen in error of the spectral derivative of $e^{\\cos(x)}$. Both the sine fourier series and the cos fourier series of $e^{\\sin(x)}$ is made of Bessel's function but the fourier sine series of $e^{\\cos(x)}$ is made of simple functions. It's possible that the spectral derivative exactly represents the fourier sine series of $e^{\\sin(x)}$, making no new error contributions. This could lead to the pairing up of errors."
   ]
  },
  {
   "cell_type": "markdown",
   "metadata": {},
   "source": [
    "## Question 4"
   ]
  },
  {
   "cell_type": "markdown",
   "metadata": {
    "nbgrader": {
     "grade": false,
     "grade_id": "Exercise4",
     "locked": true,
     "schema_version": 1,
     "solution": false
    }
   },
   "source": [
    "IV. Run the program in Chapter $1$, where we approximated the derivative by fourth order central difference, for large values of $N$ say $N=2^{16}$.\n",
    "<ul>\n",
    "<li>\n",
    "What happens to the plot of error versus $N$?\n",
    "<li>\n",
    "Why?\n",
    "<li>\n",
    "Import the python library \"time\" and use \"time.clock()\" method to measure the time taken as a function of $N$.\n",
    "<li>\n",
    "Plot the time taken as a function of $N$.\n",
    "<li> Is the dependence linear, quadratic or cubic?"
   ]
  },
  {
   "cell_type": "markdown",
   "metadata": {},
   "source": [
    "### Solution"
   ]
  },
  {
   "cell_type": "code",
   "execution_count": null,
   "metadata": {},
   "outputs": [],
   "source": [
    "# Accuracy of fourth order central difference for various N, set up grid in $[-\\pi,\\pi]$ and function u(x):\n",
    "import scipy as sp\n",
    "from scipy import sparse\n",
    "from scipy.linalg import circulant\n",
    "import time\n",
    "\n",
    "n      = 2**sp.arange(3,16);\n",
    "error = sp.zeros(sp.size(n));\n",
    "ts = sp.zeros(sp.size(n));\n",
    "runs = 10; # averaging over many runs for accuracy.\n",
    "\n",
    "for k in range(0,sp.size(n)):\n",
    "    tbeg          = time.clock();\n",
    "    for j in range(0,runs):      \n",
    "        N           = n[k];\n",
    "        h           = 2*sp.pi/N;\n",
    "        x           = -sp.pi+sp.arange(1,N+1)*h;\n",
    "        u           = sp.exp(sp.sin(x));\n",
    "        uprime   = sp.cos(x)*u;\n",
    "        v           = sp.zeros(N);\n",
    "        v[1]       = -8;\n",
    "        v[-1]      = 8;\n",
    "        v[2]       = 1;\n",
    "        v[-2]      = -1;\n",
    "        D           = sparse.csr_matrix(circulant(v));\n",
    "        du          = D.dot(u)/12/h;\n",
    "    tend       = time.clock();\n",
    "    ts[k] = (tend - tbeg)/runs;\n",
    "    error[k]  = sp.amax(du-uprime);\n"
   ]
  },
  {
   "cell_type": "code",
   "execution_count": null,
   "metadata": {},
   "outputs": [],
   "source": [
    "import matplotlib.pyplot as plt\n",
    "plt.loglog(n,error,'+', label='Error')\n",
    "plt.loglog(n,1/n**4,'-', label='h^4')\n",
    "plt.xlabel('Number of points');\n",
    "plt.ylabel('Error');\n",
    "plt.legend();\n",
    "plt.title('Second order convergence of the finite difference');\n",
    "plt.show()"
   ]
  },
  {
   "cell_type": "markdown",
   "metadata": {},
   "source": [
    "The plot of error decreases as $\\mathcal{O}(h^4)$, this is evident from the comparison with the plot of $\\frac{1}{N^4}$. Beyond a value of $N$ (around 5000), the error doesn't decrease. This is because of the conditioning of the problem and finite preceision arithmetic. "
   ]
  },
  {
   "cell_type": "code",
   "execution_count": null,
   "metadata": {},
   "outputs": [],
   "source": [
    "import matplotlib.pyplot as plt\n",
    "plt.loglog(n,ts,'+', label='Error')\n",
    "plt.loglog(n,n**2/10**8,'-', label='N^2 (normalised)')\n",
    "plt.xlabel('Number of points');\n",
    "plt.ylabel('Time taken');\n",
    "plt.legend();\n",
    "plt.title('Time taken vs N');\n",
    "plt.show()"
   ]
  },
  {
   "cell_type": "code",
   "execution_count": null,
   "metadata": {},
   "outputs": [],
   "source": [
    "print(\"Slope: \",(sp.log(ts[-1])-sp.log(ts[-6]))/(sp.log(n[-1])-sp.log(n[-6])))"
   ]
  },
  {
   "cell_type": "markdown",
   "metadata": {},
   "source": [
    "The plot of error increases as $\\mathcal{O}(N^2)$, this is evident from the comparison with the plot of $N^2$. The slope also comes out to be 2. Expected behaviour is linear because of the sparse nature of the matrix"
   ]
  },
  {
   "cell_type": "markdown",
   "metadata": {},
   "source": [
    "## Question 5"
   ]
  },
  {
   "cell_type": "markdown",
   "metadata": {
    "nbgrader": {
     "grade": false,
     "grade_id": "Exercise5",
     "locked": true,
     "schema_version": 1,
     "solution": false
    }
   },
   "source": [
    "V. Execute the three programs from Chapter $1$ with $e^{\\sin(x)}$ replaced by $e^{\\sin^2(x)}$ and $e^{\\sin(x)\\lvert sin(x) \\rvert}$. Make sure to change **uprime** accordingly. What rates of convergence do you observe? Comment."
   ]
  },
  {
   "cell_type": "markdown",
   "metadata": {},
   "source": [
    "### Solution"
   ]
  },
  {
   "cell_type": "markdown",
   "metadata": {},
   "source": [
    "### $\\exp(\\sin^2(x))$\n"
   ]
  },
  {
   "cell_type": "code",
   "execution_count": null,
   "metadata": {},
   "outputs": [],
   "source": [
    "# Program 1 for $\\exp(\\sin^2(x))$\n",
    "# Accuracy of second order central difference for various N, set up grid in $[-\\pi,\\pi]$ and function u(x):\n",
    "import scipy as sp\n",
    "from scipy import sparse\n",
    "from scipy.linalg import circulant\n",
    "n      = 2**sp.arange(3,16);\n",
    "error = sp.zeros(sp.size(n));\n",
    "for k in range(0,sp.size(n)):\n",
    "    N           = n[k];\n",
    "    h           = 2*sp.pi/N;\n",
    "    x           = -sp.pi+sp.arange(1,N+1)*h;\n",
    "    u           = sp.exp(sp.sin(x)**2);\n",
    "    uprime      = sp.sin(2*x)*u;\n",
    "    v           = sp.zeros(N);\n",
    "    v[1]        = -1/2;\n",
    "    v[-1]       = 1/2;\n",
    "    D           = sparse.csr_matrix(circulant(v));\n",
    "    du          = D.dot(u)/h;\n",
    "    error[k]  = sp.amax(du-uprime);\n",
    "\n",
    "import matplotlib.pyplot as plt\n",
    "plt.loglog(n,error,'+', label='Error')\n",
    "plt.loglog(n,1/n**2,'-', label='h^2')\n",
    "plt.xlabel('Number of points');\n",
    "plt.ylabel('Error');\n",
    "plt.legend();\n",
    "plt.title('Second order convergence of the finite difference');\n",
    "plt.show()"
   ]
  },
  {
   "cell_type": "code",
   "execution_count": null,
   "metadata": {},
   "outputs": [],
   "source": [
    "# Program 2 for $\\exp(\\sin^2(x))$\n",
    "# Accuracy of fourth order central difference for various N, set up grid in $[-\\pi,\\pi]$ and function u(x):\n",
    "import scipy as sp\n",
    "from scipy import sparse\n",
    "from scipy.linalg import circulant\n",
    "n      = 2**sp.arange(3,16);\n",
    "error = sp.zeros(sp.size(n));\n",
    "for k in range(0,sp.size(n)):\n",
    "    N           = n[k];\n",
    "    h           = 2*sp.pi/N;\n",
    "    x           = -sp.pi+sp.arange(1,N+1)*h;\n",
    "    u           = sp.exp(sp.sin(x)**2);\n",
    "    uprime     = sp.sin(2*x)*u;\n",
    "    v           = sp.zeros(N);\n",
    "    v[1]       = -8;\n",
    "    v[-1]      = 8;\n",
    "    v[2]       = 1;\n",
    "    v[-2]      = -1;\n",
    "    D           = sparse.csr_matrix(circulant(v));\n",
    "    du          = D.dot(u)/12/h;\n",
    "    error[k]  = sp.amax(du-uprime);\n",
    "\n",
    "import matplotlib.pyplot as plt\n",
    "plt.loglog(n,error,'+', label='Error')\n",
    "plt.loglog(n,1/n**4,'-', label='h^4')\n",
    "plt.xlabel('Number of points');\n",
    "plt.ylabel('Error');\n",
    "plt.legend();\n",
    "plt.title('Second order convergence of the finite difference');\n",
    "plt.show()"
   ]
  },
  {
   "cell_type": "code",
   "execution_count": null,
   "metadata": {},
   "outputs": [],
   "source": [
    "# Program 3 for $\\exp(\\sin^2(x))$\n",
    "# Accuracy of the periodic spectral method for various N, set up grid in $[-\\pi,\\pi]$ and function u(x):\n",
    "import scipy as sp\n",
    "from scipy import linalg\n",
    "n      = sp.arange(2,45,2);\n",
    "error = sp.zeros(sp.size(n));\n",
    "for k in range(0,sp.size(n)):\n",
    "    N           = n[k];\n",
    "    h           = 2*sp.pi/N;\n",
    "    x           = -sp.pi+sp.arange(1,N+1)*h;\n",
    "    u           = sp.exp(sp.sin(x)**2);\n",
    "    uprime      = sp.sin(2*x)*u;\n",
    "    vec           = sp.zeros(N);\n",
    "    vec[1:N]   = (-1)**sp.arange(1,N)/sp.tan(sp.arange(1,N)*h/2);\n",
    "    D           = sp.linalg.circulant(vec);\n",
    "    du          = 0.5*D.dot(u);\n",
    "    error[k]    = sp.amax(sp.fabs(du-uprime));\n",
    "\n",
    "import matplotlib.pyplot as plt\n",
    "plt.semilogy(n,error,'+', label='Error')\n",
    "plt.xlabel('Number of points');\n",
    "plt.ylabel('Error');\n",
    "plt.legend();\n",
    "plt.title('Convergence of spectral derivative');\n",
    "plt.show();"
   ]
  },
  {
   "cell_type": "markdown",
   "metadata": {},
   "source": [
    "### $\\exp(\\sin(x)|\\sin(x)|)$"
   ]
  },
  {
   "cell_type": "code",
   "execution_count": null,
   "metadata": {},
   "outputs": [],
   "source": [
    "# Program 1 for exp(sin(𝑥)|sin(𝑥)|)\n",
    "# Accuracy of second order central difference for various N, set up grid in $(0,\\pi)$ and function u(x):\n",
    "import scipy as sp\n",
    "from scipy import sparse\n",
    "from scipy.linalg import circulant\n",
    "n      = 2**sp.arange(3,16);\n",
    "error = sp.zeros(sp.size(n));\n",
    "for k in range(0,sp.size(n)):\n",
    "    N           = n[k];\n",
    "    h           = 2*sp.pi/N;\n",
    "    # inserting values very close to zero and pi at the edges\n",
    "    x   = sp.asarray([10**-10] + sp.array(sp.arange(1,N-1)*h).tolist() + [sp.pi - 10**-10])\n",
    "    u           = sp.exp(sp.sin(x)*sp.fabs(sp.sin(x)));\n",
    "    uprime      = ((sp.sin(x)**2 * sp.cos(x))/sp.fabs(sp.sin(x)) +  (sp.fabs(sp.sin(x))*sp.cos(x))) *u;\n",
    "    v           = sp.zeros(N);\n",
    "    v[1]        = -1/2;\n",
    "    v[-1]       = 1/2;\n",
    "    D           = sparse.csr_matrix(circulant(v));\n",
    "    du          = D.dot(u)/h;\n",
    "    error[k]  = sp.amax(du-uprime);\n",
    "\n",
    "import matplotlib.pyplot as plt\n",
    "plt.loglog(n,error,'+', label='Error')\n",
    "plt.loglog(n,1/n**2,'-', label='h^2')\n",
    "plt.xlabel('Number of points');\n",
    "plt.ylabel('Error');\n",
    "plt.legend();\n",
    "plt.title('Second order convergence of the finite difference');\n",
    "plt.show()"
   ]
  },
  {
   "cell_type": "code",
   "execution_count": null,
   "metadata": {},
   "outputs": [],
   "source": [
    "# Program 2 for exp(sin(𝑥)|sin(𝑥)|)\n",
    "# Accuracy of fourth order central difference for various N, set up grid in $(0,\\pi)$ and function u(x):\n",
    "import scipy as sp\n",
    "from scipy import sparse\n",
    "from scipy.linalg import circulant\n",
    "n      = 2**sp.arange(3,16);\n",
    "error = sp.zeros(sp.size(n));\n",
    "for k in range(0,sp.size(n)):\n",
    "    N           = n[k];\n",
    "    h           = 2*sp.pi/N;\n",
    "    x   = sp.asarray([10**-10] + sp.array(sp.arange(1,N-1)*h).tolist() + [sp.pi - 10**-10])\n",
    "    u           = sp.exp(sp.sin(x)*sp.fabs(sp.sin(x)));\n",
    "    uprime      = ((sp.sin(x)**2 * sp.cos(x))/sp.fabs(sp.sin(x)) +  (sp.fabs(sp.sin(x))*sp.cos(x))) *u;\n",
    "    v           = sp.zeros(N);\n",
    "    v[1]       = -8;\n",
    "    v[-1]      = 8;\n",
    "    v[2]       = 1;\n",
    "    v[-2]      = -1;\n",
    "    D           = sparse.csr_matrix(circulant(v));\n",
    "    du          = D.dot(u)/12/h;\n",
    "    error[k]  = sp.amax(du-uprime);\n",
    "\n",
    "import matplotlib.pyplot as plt\n",
    "plt.loglog(n,error,'+', label='Error')\n",
    "plt.loglog(n,1/n**4,'-', label='h^4')\n",
    "plt.xlabel('Number of points');\n",
    "plt.ylabel('Error');\n",
    "plt.legend();\n",
    "plt.title('Second order convergence of the finite difference');\n",
    "plt.show()"
   ]
  },
  {
   "cell_type": "code",
   "execution_count": null,
   "metadata": {},
   "outputs": [],
   "source": [
    "# Program 3 for exp(sin(𝑥)|sin(𝑥)|)\n",
    "# Accuracy of the periodic spectral method for various N, set up grid in $(0,\\pi)$ and function u(x):\n",
    "import scipy as sp\n",
    "from scipy import linalg\n",
    "n      = sp.arange(2,45,2);\n",
    "error = sp.zeros(sp.size(n));\n",
    "for k in range(0,sp.size(n)):\n",
    "    N           = n[k];\n",
    "    h           = 2*sp.pi/N;\n",
    "    x   = sp.asarray([10**-10] + sp.array(sp.arange(1,N-1)*h).tolist() + [sp.pi - 10**-10])\n",
    "    u           = sp.exp(sp.sin(x)*sp.fabs(sp.sin(x)));\n",
    "    uprime      = ((sp.sin(x)**2 * sp.cos(x))/sp.fabs(sp.sin(x)) +  (sp.fabs(sp.sin(x))*sp.cos(x))) *u;\n",
    "    vec           = sp.zeros(N);\n",
    "    vec[1:N]   = (-1)**sp.arange(1,N)/sp.tan(sp.arange(1,N)*h/2);\n",
    "    D           = sp.linalg.circulant(vec);\n",
    "    du          = 0.5*D.dot(u);\n",
    "    error[k]    = sp.amax(sp.fabs(du-uprime));\n",
    "\n",
    "import matplotlib.pyplot as plt\n",
    "plt.semilogy(n,error,'+', label='Error')\n",
    "plt.xlabel('Number of points');\n",
    "plt.ylabel('Error');\n",
    "plt.legend();\n",
    "plt.title('Convergence of spectral derivative');\n",
    "plt.show();"
   ]
  },
  {
   "cell_type": "markdown",
   "metadata": {},
   "source": [
    "### Comments on the rates of convergence"
   ]
  },
  {
   "cell_type": "markdown",
   "metadata": {},
   "source": [
    "The first function $\\exp(\\sin^2(x))$ follows rates of convergence similar to $\\exp(\\sin(x))$. However, the second function $\\exp(\\sin(x)|\\sin(x)|)$ shows poor rate of convergence, especially in the spectral derivative. This is because the function is not smooth. In fact, there is a non-differentiable kink in its derivative. This can be seen seen in the plots of the function along with its derivative."
   ]
  },
  {
   "cell_type": "code",
   "execution_count": null,
   "metadata": {},
   "outputs": [],
   "source": [
    "N = 1000;\n",
    "h = 2*sp.pi/N;\n",
    "x    = sp.asarray([10**-10] + sp.array(sp.arange(1,N-1)*h).tolist());\n",
    "u1   = sp.exp(sp.sin(x)*sp.fabs(sp.sin(x)));\n",
    "u2   = ((sp.sin(x)**2 * sp.cos(x))/sp.fabs(sp.sin(x)) +  (sp.fabs(sp.sin(x))*sp.cos(x))) *u1;\n",
    "\n",
    "import matplotlib.pyplot as plt\n",
    "plt.plot(x,u1,'-', label='u')\n",
    "plt.plot(x,u2,'--', label='uprime')\n",
    "plt.xlabel('x');\n",
    "plt.ylabel('Functions');\n",
    "plt.legend();\n",
    "plt.title('Plots of both functions');\n",
    "plt.show();"
   ]
  },
  {
   "cell_type": "markdown",
   "metadata": {},
   "source": [
    "## Question 6"
   ]
  },
  {
   "cell_type": "markdown",
   "metadata": {
    "nbgrader": {
     "grade": false,
     "grade_id": "Exercise6",
     "locked": true,
     "schema_version": 1,
     "solution": false
    }
   },
   "source": [
    "VI.\n",
    "<ul>\n",
    "<li>\n",
    "By appropriately manipulating Taylor series, determine the constant $C$ for an error expansion of the fourth order central difference for the first derivative, i.e.,\n",
    "$$w_j-u'(x_j) \\sim C h^4 \\left.\\dfrac{d^5u(x)}{dx^5} \\right\\rvert_{x=x_j}$$\n",
    "<li>\n",
    "Based on this value of $C$ and on the formula for $\\dfrac{d^5u(x)}{dx^5}$ for $u(x) = e^{\\sin(x)}$, determine the leading term in the expansion for $w_j-u'(x_j)$ for $u(x) = e^{\\sin(x)}$. You will have to find\n",
    "$$\\max_{x \\in \\left[-\\pi,\\pi\\right]} \\left\\lvert \\dfrac{d^5u(x)}{dx^5} \\right\\rvert$$\n",
    "numerically.\n",
    "<li>\n",
    "Modify the program so that it plots the dashed line corresponding to this leading term rather than $N^{-4}$. This adjusted dashed line should fit the data almost perfectly.\n",
    "<li>\n",
    "Plot the difference between the two on a log-log scale and verify that it shrinks at the rate $\\mathcal{O}\\bkt{h^6}$.\n",
    "</ul>"
   ]
  },
  {
   "cell_type": "markdown",
   "metadata": {},
   "source": [
    "### Solution"
   ]
  },
  {
   "cell_type": "markdown",
   "metadata": {},
   "source": [
    "The Taylor series expansion can be compactly written as:\n",
    "$$\n",
    "u_{j\\pm1} = u_j \\pm h u^{(1)}(j) + \\frac{h^2}{2} u^{(2)}(j) \\pm \\frac{h^3}{6} u^{(3)}(j) + \\frac{h^4}{24}u^{(4)}(j) \\pm \\frac{h^5}{120} u^{(5)}(j) + \\mathcal{O}(h^6)\n",
    "$$\n",
    "$$\n",
    "u_{j\\pm2} = u_j \\pm 2h u^{(1)}(j) + \\frac{4h^2}{2} u^{(2)}(j) \\pm \\frac{8h^3}{6} u^{(3)}(j) + \\frac{16h^4}{24}u^{(4)}(j) \\pm \\frac{32h^5}{120} u^{(5)}(j) + \\mathcal{O}(h^6)\n",
    "$$"
   ]
  },
  {
   "cell_type": "markdown",
   "metadata": {},
   "source": [
    "$$\n",
    "u_{j+1} - u_{j-1} = 2h u^{(1)}(j) + \\frac{2h^3}{6}u^{(3)}(j) + \\frac{h^5}{60}u^{(5)}(j) + \\mathcal{O}(h^7)\n",
    "$$\n",
    "$$\n",
    "u_{j+2} - u_{j-2} = 4h u^{(1)}(j) + \\frac{16h^3}{6}u^{(3)}(j) + \\frac{8h^5}{15}u^{(5)}(j) + \\mathcal{O}(h^7)\n",
    "$$"
   ]
  },
  {
   "cell_type": "markdown",
   "metadata": {},
   "source": [
    "$$u_{j+2} - u_{j-2} - 8u_{j+1} + 8u_{j-1} = -12h u^{(1)}(j) + \\frac{24}{60} u^{(5)}(j) + \\mathcal{O}(h^7)$$"
   ]
  },
  {
   "cell_type": "markdown",
   "metadata": {},
   "source": [
    "Hence, the value of $C = \\frac{2}{3}$"
   ]
  },
  {
   "cell_type": "markdown",
   "metadata": {},
   "source": [
    "The fifth derivative of $e^{\\sin(x)}$ is\n",
    "$\n",
    "\\dfrac{d^5u(x)}{dx^5} = e^{\\sin(x)} \\cos(x) \\Big[ \\cos^4(x) - 10\\cos^2(x) - 10 \\cos^2(x) \\sin(x) + 15\\sin^2(x) + 15\\sin(x) + 1   \\Big]\n",
    "$\n",
    "If we find the maximum value of this function and multiply with $C$ from above, we'll get the leading coefficient of $h^4$."
   ]
  },
  {
   "cell_type": "code",
   "execution_count": null,
   "metadata": {},
   "outputs": [],
   "source": [
    "# Finding the maximum of $\\dfrac{d^5u(x)}{dx^5}$\n",
    "# The naive way to do this is to discretise the interval $[-\\pi,pi]$ with a small step size, \n",
    "# evaluate the function at all these points and find the maximum value.\n",
    "\n",
    "N = 10**5;\n",
    "h = 2*sp.pi/N;\n",
    "x = -sp.pi + sp.arange(1,N)*h;\n",
    "f = sp.exp(sp.sin(x))*sp.cos(x)*(sp.cos(x)**4-10*sp.cos(x)**2-10*sp.cos(x)**2*sp.sin(x) + 15*sp.sin(x)**2 + 15*sp.sin(x) + 1);\n",
    "maxx = max(f);\n",
    "print(\"Maximum =\",maxx);\n",
    "\n",
    "import matplotlib.pyplot as plt\n",
    "plt.plot(x,f,'-',label='5th derivative')\n",
    "plt.xlabel('x');\n",
    "plt.ylabel('Function');\n",
    "plt.legend();\n",
    "plt.title('Plot of the function');\n",
    "plt.show();\n",
    "\n",
    "C = 2/3;\n",
    "leading_term = C*maxx;\n",
    "print(\"Leading Term =\",leading_term);"
   ]
  },
  {
   "cell_type": "code",
   "execution_count": null,
   "metadata": {},
   "outputs": [],
   "source": [
    "# Program 2 (modified)\n",
    "# Accuracy of fourth order central difference for various N, set up grid in $[-\\pi,\\pi]$ and function u(x):\n",
    "import scipy as sp\n",
    "from scipy import sparse\n",
    "from scipy.linalg import circulant\n",
    "n      = 2**sp.arange(3,16);\n",
    "error = sp.zeros(sp.size(n));\n",
    "for k in range(0,sp.size(n)):\n",
    "    N           = n[k];\n",
    "    h           = 2*sp.pi/N;\n",
    "    x           = -sp.pi+sp.arange(1,N+1)*h;\n",
    "    u           = sp.exp(sp.sin(x));\n",
    "    uprime   = sp.cos(x)*u;\n",
    "    v           = sp.zeros(N);\n",
    "    v[1]       = -8;\n",
    "    v[-1]      = 8;\n",
    "    v[2]       = 1;\n",
    "    v[-2]      = -1;\n",
    "    D           = sparse.csr_matrix(circulant(v));\n",
    "    du          = D.dot(u)/12/h;\n",
    "    error[k]  = sp.amax(du-uprime);\n",
    "\n",
    "import matplotlib.pyplot as plt\n",
    "plt.loglog(n,error,'+', label='Error')\n",
    "plt.loglog(n,leading_term/n**4,'-', label='h^4')\n",
    "plt.xlabel('Number of points');\n",
    "plt.ylabel('Error');\n",
    "plt.legend();\n",
    "plt.title('Second order convergence of the finite difference');\n",
    "plt.show()"
   ]
  },
  {
   "cell_type": "markdown",
   "metadata": {},
   "source": [
    "This is a closer fit than just $1/n^4$. The difference can be plotted and the difference goes as $\\mathcal{O}(h^6)$."
   ]
  },
  {
   "cell_type": "code",
   "execution_count": null,
   "metadata": {},
   "outputs": [],
   "source": [
    "diff = error - leading_term/n**4;\n",
    "import matplotlib.pyplot as plt\n",
    "plt.loglog(n,diff,'+', label='Error')\n",
    "plt.loglog(n,1/n**6,'-', label='h^6')\n",
    "plt.xlabel('Number of points');\n",
    "plt.ylabel('Error');\n",
    "plt.legend();\n",
    "plt.title('Convergence of the difference');\n",
    "plt.show()"
   ]
  }
 ],
 "metadata": {
  "celltoolbar": "Raw Cell Format",
  "kernelspec": {
   "display_name": "Python 3",
   "language": "python",
   "name": "python3"
  },
  "language_info": {
   "codemirror_mode": {
    "name": "ipython",
    "version": 3
   },
   "file_extension": ".py",
   "mimetype": "text/x-python",
   "name": "python",
   "nbconvert_exporter": "python",
   "pygments_lexer": "ipython3",
   "version": "3.6.6"
  }
 },
 "nbformat": 4,
 "nbformat_minor": 2
}
