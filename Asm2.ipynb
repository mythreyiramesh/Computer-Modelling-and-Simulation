{
 "cells": [
  {
   "cell_type": "markdown",
   "metadata": {},
   "source": [
    "# MA5790 - Assignment 2 - MM15B022 - R Mythreyi"
   ]
  },
  {
   "cell_type": "code",
   "execution_count": 1,
   "metadata": {
    "nbgrader": {
     "grade": false,
     "grade_id": "Exercise1",
     "locked": true,
     "schema_version": 1,
     "solution": false
    }
   },
   "outputs": [
    {
     "name": "stdout",
     "output_type": "stream",
     "text": [
      "The tikzmagic module is not an IPython extension.\n"
     ]
    }
   ],
   "source": [
    "%load_ext tikzmagic"
   ]
  },
  {
   "cell_type": "code",
   "execution_count": 2,
   "metadata": {},
   "outputs": [],
   "source": [
    "%matplotlib inline"
   ]
  },
  {
   "cell_type": "code",
   "execution_count": 3,
   "metadata": {},
   "outputs": [
    {
     "data": {
      "application/javascript": [
       "MathJax.Hub.Config({\n",
       "    TeX: { equationNumbers: { autoNumber: \"AMS\" } }\n",
       "});\n",
       "\n",
       "MathJax.Hub.Queue(\n",
       "  [\"resetEquationNumbers\", MathJax.InputJax.TeX],\n",
       "  [\"PreProcess\", MathJax.Hub],\n",
       "  [\"Reprocess\", MathJax.Hub]\n",
       ");\n"
      ],
      "text/plain": [
       "<IPython.core.display.Javascript object>"
      ]
     },
     "metadata": {},
     "output_type": "display_data"
    }
   ],
   "source": [
    "%%javascript\n",
    "MathJax.Hub.Config({\n",
    "    TeX: { equationNumbers: { autoNumber: \"AMS\" } }\n",
    "});\n",
    "\n",
    "MathJax.Hub.Queue(\n",
    "  [\"resetEquationNumbers\", MathJax.InputJax.TeX],\n",
    "  [\"PreProcess\", MathJax.Hub],\n",
    "  [\"Reprocess\", MathJax.Hub]\n",
    ");"
   ]
  },
  {
   "cell_type": "markdown",
   "metadata": {},
   "source": [
    "## Question 1 "
   ]
  },
  {
   "cell_type": "markdown",
   "metadata": {},
   "source": [
    "Properties of the Fourier Transform operator."
   ]
  },
  {
   "cell_type": "markdown",
   "metadata": {},
   "source": [
    "### Solution"
   ]
  },
  {
   "cell_type": "markdown",
   "metadata": {},
   "source": [
    "By definition, $$\\mathcal{F}\\{u\\}(k) = \\int_{-\\infty}^{\\infty} e^{-ikx} u(x) \\mathrm{d}x = \\hat{u}(k)$$\n",
    "$$ \\mathcal{F}^{-1}\\{u\\}(k) = u(x) = \\frac{1}{2\\pi} \\int_{-\\infty}^{\\infty} e^{ikx} \\hat{u}(k) \\mathrm{d}k $$"
   ]
  },
  {
   "cell_type": "markdown",
   "metadata": {},
   "source": [
    "#### (a) Linearity"
   ]
  },
  {
   "cell_type": "markdown",
   "metadata": {},
   "source": [
    "$$\n",
    "\\begin{align*}\n",
    "\\mathcal{F}\\{u+v\\}(k) &= \\int_{-\\infty}^{\\infty} e^{-ikx} (u(x)+v(x)) \\mathrm{d}x \\\\\n",
    "&= \\int_{-\\infty}^{\\infty} e^{-ikx} u(x) \\mathrm{d}x + \\int_{-\\infty}^{\\infty} e^{-ikx} v(x) \\mathrm{d}x \\\\\n",
    "&= \\hat{u}(k) + \\hat{v}(k)\n",
    "\\end{align*}\n",
    "$$"
   ]
  },
  {
   "cell_type": "markdown",
   "metadata": {},
   "source": [
    "$$\n",
    "\\begin{align*}\n",
    "\\mathcal{F}\\{cu\\}(k) &= \\int_{-\\infty}^{\\infty} e^{-ikx} c u(x) \\mathrm{d}x \\\\\n",
    "&= c \\int_{-\\infty}^{\\infty} e^{-ikx} u(x) \\mathrm{d}x \\\\\n",
    "&= c\\hat{u}(k)\n",
    "\\end{align*}\n",
    "$$"
   ]
  },
  {
   "cell_type": "markdown",
   "metadata": {},
   "source": [
    "#### (b) Translation"
   ]
  },
  {
   "cell_type": "markdown",
   "metadata": {},
   "source": [
    "$$\n",
    "\\begin{align*}\n",
    "\\mathcal{F}\\{u(x+x_0)\\}(k) &= \\int_{-\\infty}^{\\infty} e^{-ikx} u(x+x_0) \\mathrm{d}x \\\\ \n",
    "&= \\int_{-\\infty}^{\\infty} e^{-ik(x-x_0)} u(x) \\mathrm{d}x & \\text{By replacing $x$ with $(x-x_0)$} \\\\\n",
    "&= e^{ikx_0}\\int_{-\\infty}^{\\infty} e^{-ikx} u(x) \\mathrm{d}x \\\\\n",
    "&= e^{ikx_0} \\hat{u}(k)\n",
    "\\end{align*}\n",
    "$$"
   ]
  },
  {
   "cell_type": "markdown",
   "metadata": {},
   "source": [
    "$$\n",
    "\\begin{align*}\n",
    "\\mathcal{F}\\{cu\\}(k) &= \\int_{-\\infty}^{\\infty} e^{-ikx} c u(x) \\mathrm{d}x \\\\\n",
    "&= c \\int_{-\\infty}^{\\infty} e^{-ikx} u(x) \\mathrm{d}x \\\\\n",
    "&= c\\hat{u}(k)\n",
    "\\end{align*}\n",
    "$$"
   ]
  },
  {
   "cell_type": "markdown",
   "metadata": {},
   "source": [
    "#### (c) Modulation"
   ]
  },
  {
   "cell_type": "markdown",
   "metadata": {},
   "source": [
    "$$\n",
    "\\begin{align*}\n",
    "\\mathcal{F}\\{e^{ikx_0}u(x)\\}(k) &= \\int_{-\\infty}^{\\infty} e^{-ikx} e^{ikx_0}u(x) \\mathrm{d}x \\\\ \n",
    "&= \\int_{-\\infty}^{\\infty} e^{-i(k-k_0)x} u(x) \\mathrm{d}x  \\\\\n",
    "&= \\hat{u}(k-k_0)\n",
    "\\end{align*}\n",
    "$$"
   ]
  },
  {
   "cell_type": "markdown",
   "metadata": {},
   "source": [
    "#### (d) Dilation"
   ]
  },
  {
   "cell_type": "markdown",
   "metadata": {},
   "source": [
    "$$\n",
    "\\begin{align*}\n",
    "\\mathcal{F}\\{u(cx)\\}(k) &= \\int_{-\\infty}^{\\infty} e^{-ikx} u(cx) \\mathrm{d}x \\\\ \n",
    "&= \\frac{1}{|c|} \\int_{-\\infty}^{\\infty} e^{-ik(y/c)} u(y) \\mathrm{d}y & \\text{By replacing $cx$ with $y$} \\\\\n",
    "&= \\frac{1}{|c|} \\int_{-\\infty}^{\\infty} e^{-i(k/c)x} u(x) \\mathrm{d}x & \\text{By replacing $y$ with $x$} \\\\\n",
    "&= \\frac{1}{|c|} \\hat{u} \\left(\\frac{k}{c}\\right)\n",
    "\\end{align*}\n",
    "$$"
   ]
  },
  {
   "cell_type": "markdown",
   "metadata": {},
   "source": [
    "#### (e) Conjugation"
   ]
  },
  {
   "cell_type": "markdown",
   "metadata": {},
   "source": [
    "$$\n",
    "\\begin{align*}\n",
    "\\mathcal{F}\\{\\bar{u}\\}(k) &= \\int_{-\\infty}^{\\infty} e^{-ikx} \\bar{u}(x) \\mathrm{d}x \\\\ \n",
    "\\hat{u}(k) &= \\int_{-\\infty}^{\\infty} e^{-ikx} u(x) \\mathrm{d}x \\\\\n",
    "\\overline{\\hat{u}(k)} &= \\int_{-\\infty}^{\\infty} e^{ikx} \\overline{u(x)} \\mathrm{d}x & \\text{Taking complex conjugate} \\\\\n",
    "&= \\int_{-\\infty}^{\\infty} e^{-i(-k)x} \\overline{u(x)} \\mathrm{d}x \\\\\n",
    "&= \\overline{\\hat{u}(-k)}\n",
    "\\end{align*}\n",
    "$$"
   ]
  },
  {
   "cell_type": "markdown",
   "metadata": {},
   "source": [
    "#### (f) Differentiation"
   ]
  },
  {
   "cell_type": "markdown",
   "metadata": {},
   "source": [
    "$$\n",
    "\\begin{align*}\n",
    "u(x) &= \\frac{1}{2\\pi} \\int_{-\\infty}^{\\infty} e^{ikx} \\hat{u}(k) \\mathrm{d}k \\\\\n",
    "\\frac{du}{dx} &= \\frac{1}{2\\pi} ik \\int_{-\\infty}^{\\infty} e^{ikx} \\hat{u}(k) \\mathrm{d}k & \\text{Since $k$ is treated as a constant} \\\\\n",
    "&= ik u(x) \\\\\n",
    "\\mathcal{F}\\left\\{\\frac{du}{dx}\\right\\}(k) &= \\int_{-\\infty}^{\\infty} e^{-ikx} (ik)u(x) \\mathrm{d}x \\\\ \n",
    "&= ik \\hat{u}(k)\n",
    "\\end{align*}\n",
    "$$"
   ]
  },
  {
   "cell_type": "markdown",
   "metadata": {},
   "source": [
    "#### (g) Inversion"
   ]
  },
  {
   "cell_type": "markdown",
   "metadata": {},
   "source": [
    "$$\n",
    "\\begin{align*}\n",
    "\\mathcal{F}^{-1}\\{u\\}(k) &= \\frac{1}{2\\pi} \\int_{-\\infty}^{\\infty} e^{ikx} u(x) \\mathrm{d}x \\\\ \n",
    "&= \\frac{1}{2\\pi} \\int_{-\\infty}^{\\infty} e^{-i(-k)x} u(x) \\mathrm{d}x \\\\\n",
    "&= \\frac{1}{2\\pi} \\hat{u}(-k)\n",
    "\\end{align*}\n",
    "$$"
   ]
  },
  {
   "cell_type": "markdown",
   "metadata": {},
   "source": [
    "## Question 2"
   ]
  },
  {
   "cell_type": "markdown",
   "metadata": {
    "nbgrader": {
     "grade": false,
     "grade_id": "Exercise2",
     "locked": true,
     "schema_version": 1,
     "solution": false
    }
   },
   "source": [
    "Identities related to the Fourier Transform."
   ]
  },
  {
   "cell_type": "markdown",
   "metadata": {},
   "source": [
    "### Solution"
   ]
  },
  {
   "cell_type": "markdown",
   "metadata": {},
   "source": [
    "#### (a)"
   ]
  },
  {
   "cell_type": "markdown",
   "metadata": {},
   "source": [
    "Given $u(-x) = u(x)$ (even)"
   ]
  },
  {
   "cell_type": "markdown",
   "metadata": {},
   "source": [
    "$$\n",
    "\\begin{align*}\n",
    "\\hat{u}(k) &= \\int_{-\\infty}^{\\infty} e^{-ikx} u(x) \\;\\mathrm{d}x \\\\\n",
    "\\hat{u}(-k) &= \\int_{-\\infty}^{\\infty} e^{ikx} u(x) \\;\\mathrm{d}x& \\text{Considering $\\hat{u}(-k)$} \\\\\n",
    "&= -\\int_{\\infty}^{-\\infty} e^{-ikx} u(-x) \\;\\mathrm{d}x & \\text{Replacing $x$ by $-x$} \\\\\n",
    "&= \\int_{-\\infty}^{\\infty} e^{-ikx} u(x) \\;\\mathrm{d}x & \\text{Changing limits} \\\\\n",
    "&= \\hat{u}(k)\n",
    "\\end{align*}\n",
    "$$"
   ]
  },
  {
   "cell_type": "markdown",
   "metadata": {},
   "source": [
    "Therefore, $\\hat{u}(k)$ is even too. If $u(x)$ is odd, there's an extra $-$ sign that makes $\\hat{u}(k)$ odd."
   ]
  },
  {
   "cell_type": "markdown",
   "metadata": {},
   "source": [
    "#### (b)"
   ]
  },
  {
   "cell_type": "markdown",
   "metadata": {},
   "source": [
    "Given $\\overline{u(x)} = u(x)$ (real)"
   ]
  },
  {
   "cell_type": "markdown",
   "metadata": {},
   "source": [
    "$$\n",
    "\\begin{align*}\n",
    "\\hat{u}(k) &= \\int_{-\\infty}^{\\infty} e^{-ikx} u(x) \\;\\mathrm{d}x \\\\\n",
    "\\overline{\\hat{u}(k)} &= \\int_{-\\infty}^{\\infty} e^{ikx} \\overline{u(x)} \\;\\mathrm{d}x& \\text{Considering complex conjugate} \\\\\n",
    " &= \\int_{-\\infty}^{\\infty} e^{-i(-k)x} u(x) \\;\\mathrm{d}x \\\\\n",
    "&= \\hat{u}(-k)\n",
    "\\end{align*}\n",
    "$$"
   ]
  },
  {
   "cell_type": "markdown",
   "metadata": {},
   "source": [
    "Therefore, $\\hat{u}(k)$ is hermitian, by definition. If $u(x)$ is imaginary, there's an extra $-$ sign that makes $\\hat{u}(k)$ skew-hermitian."
   ]
  },
  {
   "cell_type": "markdown",
   "metadata": {},
   "source": [
    "#### (c)"
   ]
  },
  {
   "cell_type": "markdown",
   "metadata": {},
   "source": [
    "Given $\\overline{u(x)} = u(x)$ (real) and $u(-x) = u(x)$ (even)"
   ]
  },
  {
   "cell_type": "markdown",
   "metadata": {},
   "source": [
    "$$\n",
    "\\begin{align*}\n",
    "\\hat{u}(k) &= \\int_{-\\infty}^{\\infty} e^{-ikx} u(x) \\;\\mathrm{d}x \\\\\n",
    "\\overline{\\hat{u}(k)} &= \\hat{u}(-k) & \\text{From (b) above} \\\\\n",
    "\\hat{u}(-k) &= \\hat{u}(k) & \\text{From (a) above} \\\\\n",
    "\\therefore \\overline{\\hat{u}(k)} &= \\hat{u}(k)\n",
    "\\end{align*}\n",
    "$$"
   ]
  },
  {
   "cell_type": "markdown",
   "metadata": {},
   "source": [
    "Therefore, $\\hat{u}(k)$ is real and even."
   ]
  },
  {
   "cell_type": "markdown",
   "metadata": {},
   "source": [
    "#### (d)"
   ]
  },
  {
   "cell_type": "markdown",
   "metadata": {},
   "source": [
    "Given $\\overline{u(x)} = u(x)$ (real) and $u(-x) = -u(x)$ (odd)"
   ]
  },
  {
   "cell_type": "markdown",
   "metadata": {},
   "source": [
    "$$\n",
    "\\begin{align*}\n",
    "\\hat{u}(k) &= \\int_{-\\infty}^{\\infty} e^{-ikx} u(x) \\;\\mathrm{d}x \\\\\n",
    "\\overline{\\hat{u}(k)} &= \\hat{u}(-k) & \\text{From (b) above} \\\\\n",
    "\\hat{u}(-k) &= -\\hat{u}(k) & \\text{From (a) above} \\\\\n",
    "\\therefore \\overline{\\hat{u}(k)} &= -\\hat{u}(k)\n",
    "\\end{align*}\n",
    "$$"
   ]
  },
  {
   "cell_type": "markdown",
   "metadata": {},
   "source": [
    "Therefore, $\\hat{u}(k)$ is imaginary and odd."
   ]
  },
  {
   "cell_type": "markdown",
   "metadata": {},
   "source": [
    "#### (e)"
   ]
  },
  {
   "cell_type": "markdown",
   "metadata": {},
   "source": [
    "Given $\\overline{u(x)} = -u(x)$ (imaginary) and $u(-x) = u(x)$ (even)"
   ]
  },
  {
   "cell_type": "markdown",
   "metadata": {},
   "source": [
    "$$\n",
    "\\begin{align*}\n",
    "\\hat{u}(k) &= \\int_{-\\infty}^{\\infty} e^{-ikx} u(x) \\;\\mathrm{d}x \\\\\n",
    "\\overline{\\hat{u}(k)} &= -\\hat{u}(-k) & \\text{From (b) above} \\\\\n",
    "\\hat{u}(-k) &= \\hat{u}(k) & \\text{From (a) above} \\\\\n",
    "\\therefore \\overline{\\hat{u}(k)} &= -\\hat{u}(k)\n",
    "\\end{align*}\n",
    "$$"
   ]
  },
  {
   "cell_type": "markdown",
   "metadata": {},
   "source": [
    "Therefore, $\\hat{u}(k)$ is imaginary and even."
   ]
  },
  {
   "cell_type": "markdown",
   "metadata": {},
   "source": [
    "#### (f)"
   ]
  },
  {
   "cell_type": "markdown",
   "metadata": {},
   "source": [
    "Given $\\overline{u(x)} = -u(x)$ (imaginary) and $u(-x) = -u(x)$ (odd)"
   ]
  },
  {
   "cell_type": "markdown",
   "metadata": {},
   "source": [
    "$$\n",
    "\\begin{align*}\n",
    "\\hat{u}(k) &= \\int_{-\\infty}^{\\infty} e^{-ikx} u(x) \\;\\mathrm{d}x \\\\\n",
    "\\overline{\\hat{u}(k)} &= -\\hat{u}(-k) & \\text{From (b) above} \\\\\n",
    "\\hat{u}(-k) &= -\\hat{u}(k) & \\text{From (a) above} \\\\\n",
    "\\therefore \\overline{\\hat{u}(k)} &= \\hat{u}(k)\n",
    "\\end{align*}\n",
    "$$"
   ]
  },
  {
   "cell_type": "markdown",
   "metadata": {},
   "source": [
    "Therefore, $\\hat{u}(k)$ is read and odd."
   ]
  },
  {
   "cell_type": "markdown",
   "metadata": {},
   "source": [
    "## Question 3"
   ]
  },
  {
   "cell_type": "markdown",
   "metadata": {
    "collapsed": true,
    "nbgrader": {
     "grade": true,
     "grade_id": "Solution2",
     "locked": false,
     "points": 0,
     "schema_version": 1,
     "solution": true
    }
   },
   "source": [
    "Aliasing"
   ]
  },
  {
   "cell_type": "markdown",
   "metadata": {},
   "source": [
    "### Solution"
   ]
  },
  {
   "cell_type": "code",
   "execution_count": 4,
   "metadata": {},
   "outputs": [
    {
     "data": {
      "image/png": "[encoded data removed]",
      "text/plain": [
       "<Figure size 432x288 with 1 Axes>"
      ]
     },
     "metadata": {
      "needs_background": "light"
     },
     "output_type": "display_data"
    }
   ],
   "source": [
    "import matplotlib.pyplot as plt\n",
    "import scipy as sp\n",
    "\n",
    "N = 3000;\n",
    "x = sp.linspace(1,N,N);\n",
    "\n",
    "plt.plot(x,sp.sin(x),'.');\n",
    "plt.rcParams[\"figure.figsize\"] = [16,4];\n",
    "plt.show()"
   ]
  },
  {
   "cell_type": "markdown",
   "metadata": {},
   "source": [
    "When sampling a wave (signal), if the signal frequency is $F_s$ and the sampling frequency is $R_s$, the frequency that gets aliased is roughly $\\left|R_s\\text{floor}\\left(\\frac{F_s}{R_s}\\right)-F_s\\right|$. The frequency of the sin function is $\\frac{1}{2\\pi}$, whereas the sampling frequency is $1$. The frequency that's getting aliased is roughly 5."
   ]
  },
  {
   "cell_type": "markdown",
   "metadata": {},
   "source": [
    "## Question 4"
   ]
  },
  {
   "cell_type": "markdown",
   "metadata": {
    "nbgrader": {
     "grade": false,
     "grade_id": "Exercise4",
     "locked": true,
     "schema_version": 1,
     "solution": false
    }
   },
   "source": [
    "Deriving the spectral derivative matrices from calculus."
   ]
  },
  {
   "cell_type": "markdown",
   "metadata": {},
   "source": [
    "### Solution"
   ]
  },
  {
   "cell_type": "markdown",
   "metadata": {},
   "source": [
    "To get the values of the Laurent operator, the sinc function must be differentiated."
   ]
  },
  {
   "cell_type": "markdown",
   "metadata": {},
   "source": [
    "$$\n",
    "\\newcommand{\\sinc}[1]{\\mathrm{sinc}\\left(#1\\right)}\n",
    "\\begin{align*}\n",
    "S_h(x-x_m) &= \\frac{\\sin{\\frac{\\pi(x-x_m)}{h}}}{\\frac{\\pi(x-x_m)}{h}} \\\\\n",
    "S'_h(x-x_m) &= \\frac{d}{dx}\\frac{\\sin{\\frac{\\pi(x-x_m)}{h}}}{\\frac{\\pi(x-x_m)}{h}} \\\\\n",
    "&= \\frac{{\\frac{\\pi^2 (x-x_m)}{h^2} \\cos{\\frac{\\pi(x-x_m)}{h}}}-{\\frac{\\pi}{h} \\sin{\\frac{\\pi(x-x_m)}{h}}}}{\\left(\\frac{\\pi (x-x_m)}{h}\\right)^2} \\\\\n",
    "&= \\frac{\\cos{\\frac{\\pi}{h} (x-x_m)}}{x-x_m} - \\frac{\\sinc{\\frac{\\pi}{h} (x-x_m)}}{x-x_m}  \n",
    "\\end{align*}\n",
    "$$"
   ]
  },
  {
   "cell_type": "markdown",
   "metadata": {},
   "source": [
    "When $x_j = jh, j \\in \\mathbb{Z}$, the above expressions boils down to:\n",
    "$\n",
    "\\frac{(-1)^k}{kh}\n",
    "$\n",
    "where $k = (j-m)$ because $\\cos(n\\pi) = (-1)^n$ and $\\sinc{n\\pi} = 0$ when $n\\neq0$. If $n=0$, $\\sinc{n\\pi}\\rightarrow1$"
   ]
  },
  {
   "cell_type": "markdown",
   "metadata": {},
   "source": [
    "Therefore, \n",
    "$$\n",
    "\\begin{align*}\n",
    "S'_h(x_j - x_m) & = \\begin{cases}\n",
    "\\frac{{-1}^{j-m}}{(j-m)h} & \\text{if } j = m\\\\\n",
    "0 & \\text{if }j\\neq m\n",
    "\\end{cases}\n",
    "\\end{align*}\n",
    "$$"
   ]
  },
  {
   "cell_type": "markdown",
   "metadata": {},
   "source": [
    "On differentiating $S'_h(x-x_m)$ further, we get:"
   ]
  },
  {
   "cell_type": "markdown",
   "metadata": {},
   "source": [
    "$$\n",
    "\\newcommand{\\sinc}[1]{\\mathrm{sinc}\\left(#1\\right)}\n",
    "\\begin{align*}\n",
    "S''_h(x-x_m) &= {\\frac{-\\pi^2}{h^2}\\sinc{\\frac{\\pi}{h}(x-x_m)} - 2\\Big( \\cos\\frac{\\pi}{h}(x-x_m)} \\Big)/(x-x_m)^2 +2\\Big( \\mathrm{sinc}\\frac{\\pi}{h}(x-x_m) \\Big)/(x-x_m)^2\\\\\n",
    "&= \\frac{-\\pi^2}{h^2}\\sinc{\\frac{\\pi}{h} (x-x_m)} -2\\frac{\\cos{\\frac{\\pi}{h} (x-x_m)}}{(x-x_m)^2} +2 \\frac{\\sinc{\\frac{\\pi}{h} (x-x_m)}}{(x-x_m)^2}  \n",
    "\\end{align*}\n",
    "$$"
   ]
  },
  {
   "cell_type": "markdown",
   "metadata": {},
   "source": [
    "When applying the limiting conditions as with the first derivative, the second derivative on a discrete grid goes to:\n",
    "$$\n",
    "\\begin{align*}\n",
    "S''_h(x_j - x_m) & = \\begin{cases}\n",
    "2\\frac{{(-1)}^{j-m+1}}{(j-m)^2 h^2} & \\text{if } j \\neq m\\\\\n",
    "-\\frac{\\pi^2}{3h^2} & \\text{if }j= m\n",
    "\\end{cases}\n",
    "\\end{align*}\n",
    "$$"
   ]
  },
  {
   "cell_type": "markdown",
   "metadata": {},
   "source": [
    "## Question 5"
   ]
  },
  {
   "cell_type": "markdown",
   "metadata": {
    "nbgrader": {
     "grade": false,
     "grade_id": "Exercise5",
     "locked": true,
     "schema_version": 1,
     "solution": false
    }
   },
   "source": [
    "Sum of infinite series' and Riemann zeta function"
   ]
  },
  {
   "cell_type": "markdown",
   "metadata": {},
   "source": [
    "### Solution"
   ]
  },
  {
   "cell_type": "markdown",
   "metadata": {},
   "source": [
    "The elements of matrix $D$ (in the text) can be written as: ($a_{ij}$ denotes the elements of the matrix)\n",
    "$$\n",
    "\\begin{align*}\n",
    "a_{ij} & = \\begin{cases}\n",
    "0 & \\text{if }i=j \\\\\n",
    "\\frac{{-1}^{j-1+1}}{(j-i)h} & \\text{if } j > i\\\\\n",
    "-a_{ij} & \\text{if }j< i\n",
    "\\end{cases}\n",
    "\\end{align*}\n",
    "$$"
   ]
  },
  {
   "cell_type": "markdown",
   "metadata": {},
   "source": [
    "The square of this matrix (whose elements are denoted by $b_{ij}$ will therefore be:\n",
    "$$ b_{ij} = \\sum_{k=-\\infty}^{\\infty} a_{ik} a_{kj} $$"
   ]
  },
  {
   "cell_type": "markdown",
   "metadata": {},
   "source": [
    "This sum can be split into three parts: $k<i, i<k<j, k>j$. The sum (if $i<j$) is therefore split into:\n",
    "$$\n",
    "b_{ij} = \\sum_{k=-\\infty}^{i} \\frac{(-1)^{j-i}}{h^2(k-i)(j-k)} + \\sum_{k=i+1}^{j} \\frac{(-1)^{j-i+1}}{h^2(k-i)(j-k)} + \\sum_{k=j+1}^{\\infty} \\frac{(-1)^{j-i}}{h^2(k-i)(j-k)}\n",
    "$$"
   ]
  },
  {
   "cell_type": "markdown",
   "metadata": {},
   "source": [
    "This is the series and the values that they sum up to are the same as the values derived for the 2nd derivative matrix in Question 4 above. "
   ]
  },
  {
   "cell_type": "markdown",
   "metadata": {},
   "source": [
    "The series that sums up to $\\frac{\\pi^2}{6}$ is the one along the main diagonal. \n",
    "$$\n",
    "1 + \\frac{1}{2^2} + \\frac{1}{3^2} + \\frac{1}{4^2} + \\ldots = \\frac{\\pi^2}{6}\n",
    "$$\n",
    "This is the value $\\zeta{(2)}$ of the Riemann zeta function. The reason for this sum to result is that we have a uniform integral grid and we're integrating differentiating the sinc function. We can get the result by equating hte 2nd degree coefficient in the series representation of sinc function. The Parseval's theorem gives a rigourous proof of this result."
   ]
  },
  {
   "cell_type": "markdown",
   "metadata": {},
   "source": [
    "## Question 6"
   ]
  },
  {
   "cell_type": "markdown",
   "metadata": {
    "nbgrader": {
     "grade": false,
     "grade_id": "Exercise6",
     "locked": true,
     "schema_version": 1,
     "solution": false
    }
   },
   "source": [
    "Deriving spectral derivative matrix using inverse semidiscrete fourier transform"
   ]
  },
  {
   "cell_type": "markdown",
   "metadata": {},
   "source": [
    "### Solution"
   ]
  },
  {
   "cell_type": "markdown",
   "metadata": {},
   "source": [
    "The first step is to get $\\hat{\\delta}(k)$. From the semi-discrete fourier transform of the delta function, we get $\\hat{\\delta}(k)= h$, since that's the only term in the sum that's non-zero. Now that we have $\\hat{\\delta}(k)$, we can compute the inverse semi-discrete fourier transform of $ik\\hat{\\delta}(k)$."
   ]
  },
  {
   "cell_type": "markdown",
   "metadata": {},
   "source": [
    "By definition, the inverse semi-discrete fourier transform of $\\hat{v}(k)$ is:\n",
    "$$\n",
    "v_j = \\frac{1}{2\\pi} \\int_{\\frac{-\\pi}{h}}^{\\frac{\\pi}{h}} e^{ikx_j} \\hat{v}(k) \\mathrm{d}k\n",
    "$$"
   ]
  },
  {
   "cell_type": "markdown",
   "metadata": {},
   "source": [
    "$x_j = jh, j\\in \\mathbb{Z}$. Therefore,\n",
    "$$\n",
    "\\frac{1}{2\\pi} \\int_{\\frac{-\\pi}{h}}^{\\frac{\\pi}{h}} e^{ikx_j} ik\\hat{\\delta}(k) \\mathrm{d}k = \\frac{1}{2\\pi} \\int_{\\frac{-\\pi}{h}}^{\\frac{\\pi}{h}} e^{ikx_j} ikh \\mathrm{d}k = \\frac{ih}{2\\pi} \\int_{\\frac{-\\pi}{h}}^{\\frac{\\pi}{h}} k e^{ihjk} \\mathrm{d}k\n",
    "$$"
   ]
  },
  {
   "cell_type": "markdown",
   "metadata": {},
   "source": [
    "$$\n",
    "\\begin{align*}\n",
    "\\int_{\\frac{-\\pi}{h}}^{\\frac{\\pi}{h}} k e^{ihjk} \\mathrm{d}k &= \\frac{k}{ihj} e^{ihj}\\Big|_{-\\pi/h}^{\\pi/h} - \\int_{\\frac{-\\pi}{h}}^{\\frac{\\pi}{h}} \\frac{1}{ihj} e^{ihk}\\mathrm{d}k \\\\\n",
    "&= \\frac{k}{ih} e^{ikjk} \\Big|_{-\\pi/h}^{\\pi/h} - \\frac{1}{i^2j^2h^2} e^{ihjk} \\Big|_{-\\pi/h}^{\\pi/h} \\\\\n",
    "&= \\frac{\\pi}{ih^2j} 2\\cos(\\pi j) + \\frac{1}{j^2h^2}(2i\\sin(\\pi j)) & \\text{Using Euler's Theorem} \\\\\n",
    "&= \\frac{2\\pi}{ih^2j} (-1)^j \\\\\n",
    "\\therefore, \\frac{ih}{2\\pi} \\int_{\\frac{-\\pi}{h}}^{\\frac{\\pi}{h}} k e^{ihjk} \\mathrm{d}k &= \\frac{(-1)^j}{jh}\n",
    "\\end{align*}\n",
    "$$"
   ]
  },
  {
   "cell_type": "markdown",
   "metadata": {},
   "source": [
    "This gives us the required answer."
   ]
  },
  {
   "cell_type": "markdown",
   "metadata": {},
   "source": [
    "## Question 7"
   ]
  },
  {
   "cell_type": "markdown",
   "metadata": {},
   "source": [
    "Maximum error in the sinc function interpolants."
   ]
  },
  {
   "cell_type": "markdown",
   "metadata": {},
   "source": [
    "### Solution"
   ]
  },
  {
   "cell_type": "code",
   "execution_count": 5,
   "metadata": {},
   "outputs": [
    {
     "name": "stderr",
     "output_type": "stream",
     "text": [
      "/Users/mythreyi/.pyenv/versions/3.6.6/Python.framework/Versions/3.6/lib/python3.6/site-packages/ipykernel_launcher.py:12: DeprecationWarning: object of type <class 'float'> cannot be safely interpreted as an integer.\n",
      "  if sys.path[0] == '':\n",
      "/Users/mythreyi/.pyenv/versions/3.6.6/Python.framework/Versions/3.6/lib/python3.6/site-packages/ipykernel_launcher.py:13: DeprecationWarning: object of type <class 'float'> cannot be safely interpreted as an integer.\n",
      "  del sys.path[0]\n",
      "/Users/mythreyi/.pyenv/versions/3.6.6/Python.framework/Versions/3.6/lib/python3.6/site-packages/matplotlib/figure.py:98: MatplotlibDeprecationWarning: \n",
      "Adding an axes using the same arguments as a previous axes currently reuses the earlier instance.  In a future version, a new instance will always be created and returned.  Meanwhile, this warning can be suppressed, and the future behavior ensured, by passing a unique label to each axes instance.\n",
      "  \"Adding an axes using the same arguments as a previous axes \"\n"
     ]
    },
    {
     "data": {
      "image/png": "[encoded data removed]",
      "text/plain": [
       "<Figure size 1152x288 with 3 Axes>"
      ]
     },
     "metadata": {
      "needs_background": "light"
     },
     "output_type": "display_data"
    }
   ],
   "source": [
    "# Band limited interpolation\n",
    "import scipy as sp;\n",
    "import matplotlib.pyplot as plt\n",
    "xmax=10;\n",
    "hs = [2**-3,2**-4,2**-5,2**-6];\n",
    "errors_hat = sp.zeros(sp.size(hs));\n",
    "errors_square = sp.zeros(sp.size(hs));\n",
    "\n",
    "for ii in range(0,sp.size(hs)):\n",
    "    h = hs[ii];\n",
    "    N=2*xmax//h;\n",
    "    x=sp.linspace(-xmax,xmax,N+1); # computational grid\n",
    "    xx=sp.linspace(-xmax-h/20,xmax+h/20,10*(N+1)); # plotting grid\n",
    "    error_square = sp.zeros(sp.size(x));\n",
    "    error_hat = sp.zeros(sp.size(x));\n",
    "\n",
    "    for i in range(1,4):\n",
    "        plt.subplot(3,1,i);\n",
    "        if (i==1):\n",
    "            v=(x==0); # delta\n",
    "        if (i==2):\n",
    "            v=(sp.absolute(x)<=3.0); # square wave\n",
    "        if (i==3):\n",
    "            v=(sp.maximum(0,1-sp.absolute(x)/3.0)); # hat\n",
    "        # plt.plot(x,v,'ko');\n",
    "        p = sp.zeros(sp.size(xx));\n",
    "        p_extract = sp.zeros(sp.size(x));\n",
    "        for j in range (0,sp.size(x)):\n",
    "            y = (xx-x[j])/h;\n",
    "            p = p+v[j]*sp.sin(sp.pi*y)/(sp.pi*y);\n",
    "            if(j%10 == 0):\n",
    "                p_extract = p_extract + [p[j]];\n",
    "\n",
    "        if (i==2):\n",
    "            error_square = abs(v-p_extract);\n",
    "            errors_square[ii] = sp.amax(error_square);\n",
    "        if (i==3):\n",
    "            error_hat = abs(v-p_extract);\n",
    "            errors_hat[ii] = sp.amax(error_hat);\n",
    "        plt.plot(xx,p,'r-');\n",
    "        plt.axis([-11, 11, -0.25, 1.25]);\n",
    "\n",
    "plt.rcParams[\"figure.figsize\"] = [16,6]\n",
    "plt.subplots_adjust(left=None, bottom=None, right=None, top=None, wspace=None, hspace=0.5);\n",
    "plt.show()"
   ]
  },
  {
   "cell_type": "code",
   "execution_count": 6,
   "metadata": {},
   "outputs": [
    {
     "data": {
      "image/png": "[encoded data removed]",
      "text/plain": [
       "<Figure size 1152x432 with 1 Axes>"
      ]
     },
     "metadata": {
      "needs_background": "light"
     },
     "output_type": "display_data"
    }
   ],
   "source": [
    "import matplotlib.pyplot as plt\n",
    "plt.loglog(hs,errors_square,'r-o', label='Square')\n",
    "plt.loglog(hs,errors_hat,'b-o', label='Hat')\n",
    "# plt.loglog(hs,1/n**4,'-', label='h^4')\n",
    "plt.xlabel('h');\n",
    "plt.ylabel('Error');\n",
    "plt.legend();\n",
    "plt.title('Errors');\n",
    "plt.show()"
   ]
  },
  {
   "cell_type": "markdown",
   "metadata": {},
   "source": [
    "The error converges faster in the square wave as compared to hat function. This could be because of (the lack of) smoothness of the functions. "
   ]
  },
  {
   "cell_type": "code",
   "execution_count": null,
   "metadata": {},
   "outputs": [],
   "source": []
  }
 ],
 "metadata": {
  "celltoolbar": "Raw Cell Format",
  "kernelspec": {
   "display_name": "Python 3",
   "language": "python",
   "name": "python3"
  },
  "language_info": {
   "codemirror_mode": {
    "name": "ipython",
    "version": 3
   },
   "file_extension": ".py",
   "mimetype": "text/x-python",
   "name": "python",
   "nbconvert_exporter": "python",
   "pygments_lexer": "ipython3",
   "version": "3.6.6"
  }
 },
 "nbformat": 4,
 "nbformat_minor": 2
}
